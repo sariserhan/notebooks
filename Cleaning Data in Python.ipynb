{
 "cells": [
  {
   "cell_type": "markdown",
   "metadata": {},
   "source": [
    "# Cleaning Data in Python"
   ]
  },
  {
   "cell_type": "markdown",
   "metadata": {},
   "source": [
    "## Cleaning data\n",
    "- Prepare data for analysis\n",
    "- Data almost never comes in clean\n",
    "- Diagnose your data for problems\n",
    "\n",
    "### Common data problems\n",
    "- Inconsistent column names\n",
    "- Missing data\n",
    "- Outliers\n",
    "- Duplicate rows\n",
    "- Untidy\n",
    "- Need to process columns\n",
    "- Column types can signal unexpected data values\n",
    "\n",
    "### Unclean data\n",
    "- Column name inconsistencies\n",
    "- Missing data\n",
    "- Country names are in French\n",
    "\n",
    "### Loading and viewing your data\n",
    "\n",
    "Your first task is to load this dataset into a DataFrame and then inspect it using the .head() and .tail() methods. However, you'll find out very quickly that the printed results don't allow you to see everything you need, since there are too many columns. Therefore, you need to look at the data in another way.\n",
    "\n",
    "The .shape and .columns attributes let you see the shape of the DataFrame and obtain a list of its columns. From here, you can see which columns are relevant to the questions you'd like to ask of the data.\n",
    "\n",
    "Get acquainted with the dataset now by exploring it with pandas! This initial exploratory analysis is a crucial first step of data cleaning."
   ]
  },
  {
   "cell_type": "code",
   "execution_count": 2,
   "metadata": {},
   "outputs": [
    {
     "name": "stdout",
     "output_type": "stream",
     "text": [
      "    ITEM_NO  AMC Item Number                         ITEM_DESC  Logic Count  \\\n",
      "0  44207509       L044207509   DRAWER, DELTA VARIO ATLAS 120MM         1335   \n",
      "1  44207668       L044207668          TOILET PAPER, COTTENELLE          445   \n",
      "2  44207958       L044207958          LINER, TRASH CAN, DOM SM          259   \n",
      "3  44208068       L044208068                 BLANKET, YC (G&G)          371   \n",
      "4  44207583       L044207583   FOAMING SOAP, SQUARE M+G 5.4 oz          523   \n",
      "\n",
      "   Seafrigo Count  Discrepancy (cases)  Discrepancy Value  ACTIVE/INACTIVE  \n",
      "0            2235                  900         $25,945.19            False  \n",
      "1             985                  540         $17,813.36            False  \n",
      "2             759                  500         $14,445.00            False  \n",
      "3             811                  440         $94,467.70            False  \n",
      "4             885                  362         $63,712.00            False  \n",
      "       ITEM_NO  AMC Item Number                              ITEM_DESC  \\\n",
      "1339  44207924       L044207924   BASKET, RECT STAINLESS STEEL - LARGE   \n",
      "1340  44207307       L044207307            BLANKET, DELTA HEAVENLY BED   \n",
      "1341  44208035       L044208035                 DELTA ECONOMY KIT 2017   \n",
      "1342  44207439       L044207439                        MARGARITA MIXER   \n",
      "1343  44206947       L044206947                      CUTLERY, PACK 6/1   \n",
      "\n",
      "      Logic Count  Seafrigo Count  Discrepancy (cases)  Discrepancy Value   \\\n",
      "1339          286             276                  -10           ($948.80)   \n",
      "1340           54              37                  -17           ($515.10)   \n",
      "1341          763             740                  -23         ($2,760.00)   \n",
      "1342          206             178                  -28         ($1,411.20)   \n",
      "1343          917             869                  -48         ($1,681.06)   \n",
      "\n",
      "     ACTIVE/INACTIVE  \n",
      "1339           False  \n",
      "1340           False  \n",
      "1341           False  \n",
      "1342           False  \n",
      "1343           False  \n",
      "(1344, 8)\n",
      "Index([u'ITEM_NO', u' AMC Item Number ', u'ITEM_DESC', u'Logic Count',\n",
      "       u'Seafrigo Count', u'Discrepancy (cases)', u' Discrepancy Value ',\n",
      "       u'ACTIVE/INACTIVE'],\n",
      "      dtype='object')\n"
     ]
    }
   ],
   "source": [
    "# Import pandas\n",
    "import pandas as pd\n",
    "\n",
    "# Read the file into a DataFrame: df\n",
    "df = pd.read_csv('sampledata.csv')\n",
    "\n",
    "# Print the head of df\n",
    "print(df.head())\n",
    "\n",
    "# Print the tail of df\n",
    "print(df.tail())\n",
    "\n",
    "# Print the shape of df\n",
    "print(df.shape)\n",
    "\n",
    "# Print the columns of df\n",
    "print(df.columns)"
   ]
  },
  {
   "cell_type": "markdown",
   "metadata": {},
   "source": [
    "### Further diagnosis\n",
    "\n",
    "The .info() method provides important information about a DataFrame, such as the number of rows, number of columns, number of non-missing values in each column, and the data type stored in each column"
   ]
  },
  {
   "cell_type": "code",
   "execution_count": 3,
   "metadata": {},
   "outputs": [
    {
     "name": "stdout",
     "output_type": "stream",
     "text": [
      "<class 'pandas.core.frame.DataFrame'>\n",
      "RangeIndex: 1344 entries, 0 to 1343\n",
      "Data columns (total 8 columns):\n",
      "ITEM_NO                1344 non-null object\n",
      " AMC Item Number       1344 non-null object\n",
      "ITEM_DESC              1344 non-null object\n",
      "Logic Count            1344 non-null int64\n",
      "Seafrigo Count         1344 non-null int64\n",
      "Discrepancy (cases)    1344 non-null int64\n",
      " Discrepancy Value     1344 non-null object\n",
      "ACTIVE/INACTIVE        1312 non-null object\n",
      "dtypes: int64(3), object(5)\n",
      "memory usage: 84.1+ KB\n",
      "None\n"
     ]
    }
   ],
   "source": [
    "# Print the info of df\n",
    "print(df.info())"
   ]
  },
  {
   "cell_type": "markdown",
   "metadata": {},
   "source": [
    "## Exploratory data analysis\n",
    "\n",
    "### Frequency counts\n",
    "- Count the number of unique values in our data\n",
    "\n",
    "### Summary statistics\n",
    "- Numeric columns\n",
    "- Outliers\n",
    " - Considerably higher or lower\n",
    " - Require further investigation\n",
    " \n",
    "### Calculating summary statistics\n",
    "\n",
    "use the .describe() method to calculate summary statistics of your data"
   ]
  },
  {
   "cell_type": "code",
   "execution_count": 4,
   "metadata": {},
   "outputs": [
    {
     "data": {
      "text/html": [
       "<div>\n",
       "<style>\n",
       "    .dataframe thead tr:only-child th {\n",
       "        text-align: right;\n",
       "    }\n",
       "\n",
       "    .dataframe thead th {\n",
       "        text-align: left;\n",
       "    }\n",
       "\n",
       "    .dataframe tbody tr th {\n",
       "        vertical-align: top;\n",
       "    }\n",
       "</style>\n",
       "<table border=\"1\" class=\"dataframe\">\n",
       "  <thead>\n",
       "    <tr style=\"text-align: right;\">\n",
       "      <th></th>\n",
       "      <th>Logic Count</th>\n",
       "      <th>Seafrigo Count</th>\n",
       "      <th>Discrepancy (cases)</th>\n",
       "    </tr>\n",
       "  </thead>\n",
       "  <tbody>\n",
       "    <tr>\n",
       "      <th>count</th>\n",
       "      <td>1344.000000</td>\n",
       "      <td>1344.000000</td>\n",
       "      <td>1344.000000</td>\n",
       "    </tr>\n",
       "    <tr>\n",
       "      <th>mean</th>\n",
       "      <td>102.223214</td>\n",
       "      <td>105.773065</td>\n",
       "      <td>3.549851</td>\n",
       "    </tr>\n",
       "    <tr>\n",
       "      <th>std</th>\n",
       "      <td>464.179197</td>\n",
       "      <td>469.909194</td>\n",
       "      <td>38.348567</td>\n",
       "    </tr>\n",
       "    <tr>\n",
       "      <th>min</th>\n",
       "      <td>0.000000</td>\n",
       "      <td>0.000000</td>\n",
       "      <td>-48.000000</td>\n",
       "    </tr>\n",
       "    <tr>\n",
       "      <th>25%</th>\n",
       "      <td>0.000000</td>\n",
       "      <td>0.000000</td>\n",
       "      <td>0.000000</td>\n",
       "    </tr>\n",
       "    <tr>\n",
       "      <th>50%</th>\n",
       "      <td>0.000000</td>\n",
       "      <td>0.000000</td>\n",
       "      <td>0.000000</td>\n",
       "    </tr>\n",
       "    <tr>\n",
       "      <th>75%</th>\n",
       "      <td>34.250000</td>\n",
       "      <td>36.250000</td>\n",
       "      <td>0.000000</td>\n",
       "    </tr>\n",
       "    <tr>\n",
       "      <th>max</th>\n",
       "      <td>9077.000000</td>\n",
       "      <td>9077.000000</td>\n",
       "      <td>900.000000</td>\n",
       "    </tr>\n",
       "  </tbody>\n",
       "</table>\n",
       "</div>"
      ],
      "text/plain": [
       "       Logic Count  Seafrigo Count  Discrepancy (cases)\n",
       "count  1344.000000     1344.000000          1344.000000\n",
       "mean    102.223214      105.773065             3.549851\n",
       "std     464.179197      469.909194            38.348567\n",
       "min       0.000000        0.000000           -48.000000\n",
       "25%       0.000000        0.000000             0.000000\n",
       "50%       0.000000        0.000000             0.000000\n",
       "75%      34.250000       36.250000             0.000000\n",
       "max    9077.000000     9077.000000           900.000000"
      ]
     },
     "execution_count": 4,
     "metadata": {},
     "output_type": "execute_result"
    }
   ],
   "source": [
    "df.describe()"
   ]
  },
  {
   "cell_type": "markdown",
   "metadata": {},
   "source": [
    "### Frequency counts for categorical data\n",
    "\n",
    ".describe() can only be used on numeric columns. So how can you diagnose data issues when you have categorical data? One way is by using the .value_counts() method, which returns the frequency counts for each unique value in a column!\n",
    "\n",
    "This method also has an optional parameter called dropna which is True by default. What this means is if you have missing data in a column, it will not give a frequency count of them. You want to set the dropna column to False so if there are missing values in a column, it will give you the frequency counts."
   ]
  },
  {
   "cell_type": "code",
   "execution_count": 5,
   "metadata": {},
   "outputs": [
    {
     "name": "stdout",
     "output_type": "stream",
     "text": [
      "0       895\n",
      "5        10\n",
      "2         9\n",
      "1         8\n",
      "6         6\n",
      "17        5\n",
      "9         5\n",
      "39        5\n",
      "7         4\n",
      "8         4\n",
      "4         4\n",
      "37        4\n",
      "3         4\n",
      "30        4\n",
      "19        4\n",
      "53        4\n",
      "54        4\n",
      "24        4\n",
      "61        3\n",
      "151       3\n",
      "51        3\n",
      "52        3\n",
      "140       3\n",
      "72        3\n",
      "62        3\n",
      "286       3\n",
      "125       3\n",
      "46        3\n",
      "76        3\n",
      "82        3\n",
      "       ... \n",
      "396       1\n",
      "112       1\n",
      "111       1\n",
      "398       1\n",
      "107       1\n",
      "106       1\n",
      "103       1\n",
      "102       1\n",
      "131       1\n",
      "137       1\n",
      "163       1\n",
      "138       1\n",
      "360       1\n",
      "362       1\n",
      "156       1\n",
      "155       1\n",
      "154       1\n",
      "153       1\n",
      "152       1\n",
      "365       1\n",
      "150       1\n",
      "149       1\n",
      "148       1\n",
      "371       1\n",
      "144       1\n",
      "143       1\n",
      "142       1\n",
      "2089      1\n",
      "139       1\n",
      "4010      1\n",
      "Name: Logic Count, Length: 270, dtype: int64\n",
      "0       892\n",
      "5        10\n",
      "2         9\n",
      "1         7\n",
      "6         6\n",
      "17        5\n",
      "3         5\n",
      "9         5\n",
      "30        4\n",
      "46        4\n",
      "48        4\n",
      "24        4\n",
      "51        4\n",
      "53        4\n",
      "19        4\n",
      "37        4\n",
      "88        4\n",
      "8         4\n",
      "7         4\n",
      "4         4\n",
      "125       3\n",
      "62        3\n",
      "278       3\n",
      "86        3\n",
      "54        3\n",
      "72        3\n",
      "83        3\n",
      "50        3\n",
      "76        3\n",
      "40        3\n",
      "       ... \n",
      "377       1\n",
      "2484      1\n",
      "425       1\n",
      "420       1\n",
      "413       1\n",
      "411       1\n",
      "407       1\n",
      "398       1\n",
      "396       1\n",
      "395       1\n",
      "387       1\n",
      "383       1\n",
      "381       1\n",
      "378       1\n",
      "2089      1\n",
      "260       1\n",
      "365       1\n",
      "362       1\n",
      "360       1\n",
      "355       1\n",
      "344       1\n",
      "333       1\n",
      "328       1\n",
      "325       1\n",
      "313       1\n",
      "275       1\n",
      "274       1\n",
      "273       1\n",
      "266       1\n",
      "168       1\n",
      "Name: Seafrigo Count, Length: 276, dtype: int64\n"
     ]
    }
   ],
   "source": [
    "# Print the value counts for 'Borough'\n",
    "print(df['Logic Count'].value_counts(dropna=False))\n",
    "\n",
    "# Print the value_counts for 'State'\n",
    "print(df['Seafrigo Count'].value_counts(dropna=False))"
   ]
  },
  {
   "cell_type": "markdown",
   "metadata": {},
   "source": [
    "## Visual exploratory data analysis\n",
    "\n",
    "### Data visualization\n",
    "- Great way to spot outliers and obvious errors\n",
    "- More than just looking for pa!erns\n",
    "- Plan data cleaning steps\n",
    "\n",
    "### Visualizing single variables with histograms\n",
    "\n",
    "The .plot() method allows you to create a plot of each column of a DataFrame. The kind parameter allows you to specify the type of plot to use - kind='hist', for example, plots a histogram.\n",
    "\n",
    "In the IPython Shell, begin by computing summary statistics for the 'Existing Zoning Sqft' column using the .describe() method. You'll notice that there are extremely large differences between the min and max values, and the plot will need to be adjusted accordingly. In such cases, it's good to look at the plot on a log scale. The keyword arguments logx=True or logy=True can be passed in to .plot() depending on which axis you want to rescale.\n",
    "\n",
    "Finally, note that Python will render a plot such that the axis will hold all the information. That is, if you end up with large amounts of whitespace in your plot, it indicates counts or values too small to render."
   ]
  },
  {
   "cell_type": "code",
   "execution_count": 6,
   "metadata": {
    "scrolled": true
   },
   "outputs": [
    {
     "data": {
      "image/png": "[encoded data removed]",
      "text/plain": [
       "<matplotlib.figure.Figure at 0xa08e780>"
      ]
     },
     "metadata": {},
     "output_type": "display_data"
    }
   ],
   "source": [
    "# Import matplotlib.pyplot\n",
    "import matplotlib.pyplot as plt\n",
    "\n",
    "# Plot the histogram\n",
    "df['Logic Count'].plot(kind='hist', rot=70, logx=True, logy=True)\n",
    "\n",
    "# Display the histogram\n",
    "plt.show()"
   ]
  },
  {
   "cell_type": "markdown",
   "metadata": {},
   "source": [
    "### Visualizing multiple variables with boxplots\n",
    "\n",
    "Histograms are great ways of visualizing single variables. To visualize multiple variables, boxplots are useful, especially when one of the variables is categorical."
   ]
  },
  {
   "cell_type": "markdown",
   "metadata": {},
   "source": [
    "### Box plots\n",
    "- Visualize basic summary statistics\n",
    " - Outliers\n",
    " - Min/max\n",
    " - 25th, 50th, 75th percentiles"
   ]
  },
  {
   "cell_type": "code",
   "execution_count": 9,
   "metadata": {},
   "outputs": [
    {
     "data": {
      "image/png": "[encoded data removed]",
      "text/plain": [
       "<matplotlib.figure.Figure at 0x243f9a58>"
      ]
     },
     "metadata": {},
     "output_type": "display_data"
    }
   ],
   "source": [
    "# Create the boxplot\n",
    "df.boxplot(column='Logic Count', by='ITEM_NO', rot=90)\n",
    "\n",
    "# Display the plot\n",
    "plt.show()"
   ]
  },
  {
   "cell_type": "markdown",
   "metadata": {},
   "source": [
    "### Bar plots and histograms\n",
    "- Bar plots for discrete data counts\n",
    "- Histograms for continuous data counts\n",
    "- Look at frequencies"
   ]
  },
  {
   "cell_type": "markdown",
   "metadata": {},
   "source": [
    "### Visualizing multiple variables with scatter plots\n",
    "\n",
    "Boxplots are great when you have a numeric column that you want to compare across different categories. When you want to visualize two numeric columns, scatter plots are ideal."
   ]
  },
  {
   "cell_type": "markdown",
   "metadata": {},
   "source": [
    "### Sca!er plots\n",
    "- Relationship between 2 numeric variables\n",
    "- Flag potentially bad data\n",
    " - Errors not found by looking at 1 variable"
   ]
  },
  {
   "cell_type": "code",
   "execution_count": 15,
   "metadata": {},
   "outputs": [
    {
     "data": {
      "image/png": "[encoded data removed]",
      "text/plain": [
       "<matplotlib.figure.Figure at 0x15814b70>"
      ]
     },
     "metadata": {},
     "output_type": "display_data"
    }
   ],
   "source": [
    "# Create and display the first scatter plot\n",
    "df.plot(kind='scatter', x='Seafrigo Count', y='Logic Count', rot=70)\n",
    "plt.show()"
   ]
  },
  {
   "cell_type": "code",
   "execution_count": 11,
   "metadata": {},
   "outputs": [
    {
     "data": {
      "text/plain": [
       "Index([u'ITEM_NO', u' AMC Item Number ', u'ITEM_DESC', u'Logic Count',\n",
       "       u'Seafrigo Count', u'Discrepancy (cases)', u' Discrepancy Value ',\n",
       "       u'ACTIVE/INACTIVE'],\n",
       "      dtype='object')"
      ]
     },
     "execution_count": 11,
     "metadata": {},
     "output_type": "execute_result"
    }
   ],
   "source": [
    "df.columns"
   ]
  },
  {
   "cell_type": "markdown",
   "metadata": {},
   "source": [
    "## Tidy data\n",
    "\n",
    "- “Tidy Data” paper by Hadley Wickham, PhD\n",
    "- Formalize the way we describe the shape of data\n",
    "- Gives us a goal when forma!ing our data\n",
    "- “Standard way to organize data values within a dataset”\n",
    "\n",
    "### Principles of tidy data\n",
    "- Columns represent separate variables\n",
    "- Rows represent individual observations\n",
    "- Observational units form tables\n",
    "- Be!er for reporting vs. be!er for analysis\n",
    "- Tidy data makes it easier to fix common data problems\n",
    "\n",
    "### Converting to tidy data\n",
    "- The data problem we are trying to fix:\n",
    " - Columns containing values, instead of variables\n",
    "- Solution: pd.melt()\n",
    "\n",
    "### Recognizing tidy data\n",
    "\n",
    "For data to be tidy, it must have:\n",
    "- Each variable as a separate column.\n",
    "- Each row as a separate observation.\n",
    "\n",
    "As a data scientist, you'll encounter data that is represented in a variety of different ways, so it is important to be able to recognize tidy (or untidy) data when you see it.\n",
    "\n",
    "### Reshaping your data using melt\n",
    "\n",
    "Melting data is the process of turning columns of your data into rows of data. Consider the DataFrames from the previous exercise. In the tidy DataFrame, the variables Ozone, Solar.R, Wind, and Temp each had their own column. If, however, you wanted these variables to be in rows instead, you could melt the DataFrame. In doing so, however, you would make the data untidy! This is important to keep in mind: Depending on how your data is represented, you will have to reshape it differently."
   ]
  },
  {
   "cell_type": "code",
   "execution_count": 16,
   "metadata": {},
   "outputs": [
    {
     "data": {
      "text/html": [
       "<div>\n",
       "<style>\n",
       "    .dataframe thead tr:only-child th {\n",
       "        text-align: right;\n",
       "    }\n",
       "\n",
       "    .dataframe thead th {\n",
       "        text-align: left;\n",
       "    }\n",
       "\n",
       "    .dataframe tbody tr th {\n",
       "        vertical-align: top;\n",
       "    }\n",
       "</style>\n",
       "<table border=\"1\" class=\"dataframe\">\n",
       "  <thead>\n",
       "    <tr style=\"text-align: right;\">\n",
       "      <th></th>\n",
       "      <th>ITEM_NO</th>\n",
       "      <th>AMC Item Number</th>\n",
       "      <th>ITEM_DESC</th>\n",
       "      <th>Logic Count</th>\n",
       "      <th>Seafrigo Count</th>\n",
       "      <th>Discrepancy (cases)</th>\n",
       "      <th>Discrepancy Value</th>\n",
       "      <th>ACTIVE/INACTIVE</th>\n",
       "    </tr>\n",
       "  </thead>\n",
       "  <tbody>\n",
       "    <tr>\n",
       "      <th>0</th>\n",
       "      <td>44207509</td>\n",
       "      <td>L044207509</td>\n",
       "      <td>DRAWER, DELTA VARIO ATLAS 120MM</td>\n",
       "      <td>1335</td>\n",
       "      <td>2235</td>\n",
       "      <td>900</td>\n",
       "      <td>$25,945.19</td>\n",
       "      <td>False</td>\n",
       "    </tr>\n",
       "    <tr>\n",
       "      <th>1</th>\n",
       "      <td>44207668</td>\n",
       "      <td>L044207668</td>\n",
       "      <td>TOILET PAPER, COTTENELLE</td>\n",
       "      <td>445</td>\n",
       "      <td>985</td>\n",
       "      <td>540</td>\n",
       "      <td>$17,813.36</td>\n",
       "      <td>False</td>\n",
       "    </tr>\n",
       "    <tr>\n",
       "      <th>2</th>\n",
       "      <td>44207958</td>\n",
       "      <td>L044207958</td>\n",
       "      <td>LINER, TRASH CAN, DOM SM</td>\n",
       "      <td>259</td>\n",
       "      <td>759</td>\n",
       "      <td>500</td>\n",
       "      <td>$14,445.00</td>\n",
       "      <td>False</td>\n",
       "    </tr>\n",
       "    <tr>\n",
       "      <th>3</th>\n",
       "      <td>44208068</td>\n",
       "      <td>L044208068</td>\n",
       "      <td>BLANKET, YC (G&amp;G)</td>\n",
       "      <td>371</td>\n",
       "      <td>811</td>\n",
       "      <td>440</td>\n",
       "      <td>$94,467.70</td>\n",
       "      <td>False</td>\n",
       "    </tr>\n",
       "    <tr>\n",
       "      <th>4</th>\n",
       "      <td>44207583</td>\n",
       "      <td>L044207583</td>\n",
       "      <td>FOAMING SOAP, SQUARE M+G 5.4 oz</td>\n",
       "      <td>523</td>\n",
       "      <td>885</td>\n",
       "      <td>362</td>\n",
       "      <td>$63,712.00</td>\n",
       "      <td>False</td>\n",
       "    </tr>\n",
       "  </tbody>\n",
       "</table>\n",
       "</div>"
      ],
      "text/plain": [
       "    ITEM_NO  AMC Item Number                         ITEM_DESC  Logic Count  \\\n",
       "0  44207509       L044207509   DRAWER, DELTA VARIO ATLAS 120MM         1335   \n",
       "1  44207668       L044207668          TOILET PAPER, COTTENELLE          445   \n",
       "2  44207958       L044207958          LINER, TRASH CAN, DOM SM          259   \n",
       "3  44208068       L044208068                 BLANKET, YC (G&G)          371   \n",
       "4  44207583       L044207583   FOAMING SOAP, SQUARE M+G 5.4 oz          523   \n",
       "\n",
       "   Seafrigo Count  Discrepancy (cases)  Discrepancy Value  ACTIVE/INACTIVE  \n",
       "0            2235                  900         $25,945.19            False  \n",
       "1             985                  540         $17,813.36            False  \n",
       "2             759                  500         $14,445.00            False  \n",
       "3             811                  440         $94,467.70            False  \n",
       "4             885                  362         $63,712.00            False  "
      ]
     },
     "execution_count": 16,
     "metadata": {},
     "output_type": "execute_result"
    }
   ],
   "source": [
    "df.head()"
   ]
  },
  {
   "cell_type": "code",
   "execution_count": 18,
   "metadata": {},
   "outputs": [
    {
     "name": "stdout",
     "output_type": "stream",
     "text": [
      "   Logic Count  Seafrigo Count variable     value\n",
      "0         1335            2235  ITEM_NO  44207509\n",
      "1          445             985  ITEM_NO  44207668\n",
      "2          259             759  ITEM_NO  44207958\n",
      "3          371             811  ITEM_NO  44208068\n",
      "4          523             885  ITEM_NO  44207583\n"
     ]
    }
   ],
   "source": [
    "# Melt airquality: airquality_melt\n",
    "airquality_melt = pd.melt(df, id_vars=['Logic Count', 'Seafrigo Count'])\n",
    "\n",
    "# Print the head of airquality_melt\n",
    "print(airquality_melt.head())"
   ]
  },
  {
   "cell_type": "markdown",
   "metadata": {},
   "source": [
    "### Customizing melted data\n",
    "\n",
    "When melting DataFrames, it would be better to have column names more meaningful than variable and value.\n",
    "\n",
    "The default names may work in certain situations, but it's best to always have data that is self explanatory.\n",
    "\n",
    "You can rename the variable column by specifying an argument to the var_name parameter, and the value column by specifying an argument to the value_name parameter."
   ]
  },
  {
   "cell_type": "code",
   "execution_count": 20,
   "metadata": {},
   "outputs": [
    {
     "name": "stdout",
     "output_type": "stream",
     "text": [
      "    ITEM_NO  Seafrigo Count        Logic Count     ITEM_DESC\n",
      "0  44207509            2235   AMC Item Number    L044207509 \n",
      "1  44207668             985   AMC Item Number    L044207668 \n",
      "2  44207958             759   AMC Item Number    L044207958 \n",
      "3  44208068             811   AMC Item Number    L044208068 \n",
      "4  44207583             885   AMC Item Number    L044207583 \n"
     ]
    }
   ],
   "source": [
    "# Melt airquality: airquality_melt\n",
    "airquality_melt = pd.melt(df, id_vars=['ITEM_NO', 'Seafrigo Count'], var_name='Logic Count', value_name='ITEM_DESC')\n",
    "\n",
    "# Print the head of airquality_melt\n",
    "print(airquality_melt.head())"
   ]
  },
  {
   "cell_type": "markdown",
   "metadata": {},
   "source": [
    "## Pivoting data\n",
    "\n",
    "While melting takes a set of columns and turns it into a single column, pivoting will create a new column for each unique value in a specified column.\n",
    "\n",
    ".pivot_table() has an index parameter which you can use to specify the columns that you don't want pivoted: It is similar to the id_vars parameter of pd.melt(). Two other parameters that you have to specify are columns (the name of the column you want to pivot), and values (the values to be used when the column is pivoted).\n",
    "\n",
    "### Pivot: un-melting data \n",
    "- Opposite of melting\n",
    "- In melting, we turned columns into rows\n",
    "- Pivoting: turn unique values into separate columns\n",
    "- Analysis friendly shape to reporting friendly shape\n",
    "- Violates tidy data principle: rows contain observations\n",
    " - Multiple variables stored in the same column\n",
    " \n",
    "### Resetting the index of a DataFrame\n",
    "\n",
    "There's a very simple method you can use to get back the original DataFrame from the pivoted DataFrame: .reset_index()"
   ]
  },
  {
   "cell_type": "raw",
   "metadata": {},
   "source": [
    "# Print the index of airquality_pivot\n",
    "print(airquality_pivot.index)\n",
    "\n",
    "# Reset the index of airquality_pivot: airquality_pivot\n",
    "airquality_pivot = airquality_pivot.reset_index()\n",
    "\n",
    "# Print the new index of airquality_pivot\n",
    "print(airquality_pivot.index)\n",
    "\n",
    "# Print the head of airquality_pivot\n",
    "print(airquality_pivot.head())"
   ]
  },
  {
   "cell_type": "markdown",
   "metadata": {},
   "source": [
    "### Pivoting duplicate values\n",
    "\n",
    ".pivot_table() method when there are multiple index values you want to hold constant during a pivot. In the video, Dan showed you how you can also use pivot tables to deal with duplicate values by providing an aggregation function through the aggfunc parameter. Here, you're going to combine both these uses of pivot tables.\n",
    "\n",
    "Let's say your data collection method accidentally duplicated your dataset. Such a dataset, in which each row is duplicated, has been pre-loaded as airquality_dup. In addition, the airquality_melt DataFrame from the previous exercise has been pre-loaded. Explore their shapes in the IPython Shell by accessing their .shape attributes to confirm the duplicate rows present in airquality_dup.\n",
    "\n",
    "You'll see that by using .pivot_table() and the aggfunc parameter, you can not only reshape your data, but also remove duplicates. Finally, you can then flatten the columns of the pivoted DataFrame using .reset_index().\n",
    "\n",
    "NumPy and pandas have been imported as np and pd respectively."
   ]
  },
  {
   "cell_type": "raw",
   "metadata": {},
   "source": [
    "# Pivot airquality_dup: airquality_pivot\n",
    "airquality_pivot = airquality_dup.pivot_table(index=['Month', 'Day'], columns='measurement', values='reading', aggfunc=np.mean)\n",
    "\n",
    "# Reset the index of airquality_pivot\n",
    "airquality_pivot = airquality_pivot.reset_index()\n",
    "\n",
    "# Print the head of airquality_pivot\n",
    "print(airquality_pivot.head())\n",
    "\n",
    "# Print the head of airquality\n",
    "print(airquality.head())"
   ]
  },
  {
   "cell_type": "markdown",
   "metadata": {},
   "source": [
    "## Beyond melt and pivot\n",
    "\n",
    "### Beyond melt and pivot\n",
    "- Melting and pivoting are basic tools\n",
    "- Another common problem:\n",
    " - Columns contain multiple bits of information\n",
    " \n",
    "### Splitting a column with .str\n",
    "\n",
    "The dataset you saw in the video, consisting of case counts of tuberculosis by country, year, gender, and age group, has been pre-loaded into a DataFrame as tb.\n",
    "\n",
    "In this exercise, you're going to tidy the 'm014' column, which represents males aged 0-14 years of age. In order to parse this value, you need to extract the first letter into a new column for gender, and the rest into a column for age_group. Here, since you can parse values by position, you can take advantage of pandas' vectorized string slicing by using the str attribute of columns of type object.\n",
    "\n",
    "Begin by printing the columns of tb in the IPython Shell using its .columns attribute, and take note of the problematic column."
   ]
  },
  {
   "cell_type": "raw",
   "metadata": {},
   "source": [
    "# Melt tb: tb_melt\n",
    "tb_melt = pd.melt(tb, id_vars=['country', 'year'])\n",
    "\n",
    "# Create the 'gender' column\n",
    "tb_melt['gender'] = tb_melt.variable.str[0]\n",
    "\n",
    "# Create the 'age_group' column\n",
    "tb_melt['age_group'] = tb_melt.variable.str[1:]\n",
    "\n",
    "# Print the head of tb_melt\n",
    "print(tb_melt.head())"
   ]
  },
  {
   "cell_type": "raw",
   "metadata": {},
   "source": [
    "<script.py> output:\n",
    "      country  year variable  value gender age_group\n",
    "    0      AD  2000     m014    0.0      m       014\n",
    "    1      AE  2000     m014    2.0      m       014\n",
    "    2      AF  2000     m014   52.0      m       014\n",
    "    3      AG  2000     m014    0.0      m       014\n",
    "    4      AL  2000     m014    2.0      m       014"
   ]
  },
  {
   "cell_type": "markdown",
   "metadata": {},
   "source": [
    "### Splitting a column with .split() and .get()\n",
    "\n",
    "Another common way multiple variables are stored in columns is with a delimiter\n",
    "\n",
    "Print the columns of ebola in the IPython Shell using ebola.columns. Notice that the data has column names such as Cases_Guinea and Deaths_Guinea. Here, the underscore _ serves as a delimiter between the first part (cases or deaths), and the second part (country).\n",
    "\n",
    "This time, you cannot directly slice the variable by position as in the previous exercise. You now need to use Python's built-in string method called .split(). By default, this method will split a string into parts separated by a space. However, in this case you want it to split by an underscore. You can do this on Cases_Guinea, for example, using Cases_Guinea.split('_'), which returns the list ['Cases', 'Guinea'].\n",
    "\n",
    "The next challenge is to extract the first element of this list and assign it to a type variable, and the second element of the list to a country variable. You can accomplish this by accessing the str attribute of the column and using the .get() method to retrieve the 0 or 1 index, depending on the part you want"
   ]
  },
  {
   "cell_type": "raw",
   "metadata": {},
   "source": [
    "# Melt ebola: ebola_melt\n",
    "ebola_melt = pd.melt(ebola, id_vars=['Date', 'Day'], var_name='type_country', value_name='counts')\n",
    "\n",
    "# Create the 'str_split' column\n",
    "ebola_melt['str_split'] = ebola_melt.type_country.str.split('_')\n",
    "\n",
    "# Create the 'type' column\n",
    "ebola_melt['type'] = ebola_melt.str_split.str.get(0)\n",
    "\n",
    "# Create the 'country' column\n",
    "ebola_melt['country'] = ebola_melt.str_split.str.get(1)\n",
    "\n",
    "# Print the head of ebola_melt\n",
    "print(ebola_melt.head())"
   ]
  },
  {
   "cell_type": "raw",
   "metadata": {},
   "source": [
    "<script.py> output:\n",
    "             Date  Day  type_country  counts        str_split   type country\n",
    "    0    1/5/2015  289  Cases_Guinea  2776.0  [Cases, Guinea]  Cases  Guinea\n",
    "    1    1/4/2015  288  Cases_Guinea  2775.0  [Cases, Guinea]  Cases  Guinea\n",
    "    2    1/3/2015  287  Cases_Guinea  2769.0  [Cases, Guinea]  Cases  Guinea\n",
    "    3    1/2/2015  286  Cases_Guinea     NaN  [Cases, Guinea]  Cases  Guinea\n",
    "    4  12/31/2014  284  Cases_Guinea  2730.0  [Cases, Guinea]  Cases  Guinea"
   ]
  },
  {
   "cell_type": "markdown",
   "metadata": {},
   "source": [
    "## Concatenating data\n",
    "\n",
    "### Combining data\n",
    "- Data may not always come in 1 huge file\n",
    " - 5 million row dataset may be broken into, 5 separate datasets\n",
    " - Easier to store and share\n",
    " - May have new data for each day\n",
    "- Important to be able to combine then clean, or vice versa\n",
    "\n",
    "### Combining rows of data"
   ]
  },
  {
   "cell_type": "raw",
   "metadata": {},
   "source": [
    "# Concatenate uber1, uber2, and uber3: row_concat\n",
    "row_concat = pd.concat([uber1,uber2,uber3])\n",
    "\n",
    "# Print the shape of row_concat\n",
    "print(row_concat.shape)\n",
    "\n",
    "# Print the head of row_concat\n",
    "print(row_concat.head())"
   ]
  },
  {
   "cell_type": "raw",
   "metadata": {},
   "source": [
    "<script.py> output:\n",
    "    (297, 4)\n",
    "              Date/Time      Lat      Lon    Base\n",
    "    0  4/1/2014 0:11:00  40.7690 -73.9549  B02512\n",
    "    1  4/1/2014 0:17:00  40.7267 -74.0345  B02512\n",
    "    2  4/1/2014 0:21:00  40.7316 -73.9873  B02512\n",
    "    3  4/1/2014 0:28:00  40.7588 -73.9776  B02512\n",
    "    4  4/1/2014 0:33:00  40.7594 -73.9722  B02512"
   ]
  },
  {
   "cell_type": "markdown",
   "metadata": {},
   "source": [
    "### Combining columns of data\n",
    "\n",
    "Think of column-wise concatenation of data as stitching data together from the sides instead of the top and bottom. To perform this action, you use the same pd.concat() function, but this time with the keyword argument axis=1. The default, axis=0, is for a row-wise concatenation."
   ]
  },
  {
   "cell_type": "raw",
   "metadata": {},
   "source": [
    "# Concatenate ebola_melt and status_country column-wise: ebola_tidy\n",
    "ebola_tidy = pd.concat([ebola_melt,status_country], axis=1)\n",
    "\n",
    "# Print the shape of ebola_tidy\n",
    "print(ebola_tidy.shape)\n",
    "\n",
    "# Print the head of ebola_tidy\n",
    "print(ebola_tidy.head())"
   ]
  },
  {
   "cell_type": "raw",
   "metadata": {},
   "source": [
    "         Date  Day status_country  counts\n",
    "0    1/5/2015  289   Cases_Guinea  2776.0\n",
    "1    1/4/2015  288   Cases_Guinea  2775.0\n",
    "2    1/3/2015  287   Cases_Guinea  2769.0\n",
    "3    1/2/2015  286   Cases_Guinea     NaN\n",
    "4  12/31/2014  284   Cases_Guinea  2730.0\n",
    "  status country\n",
    "0  Cases  Guinea\n",
    "1  Cases  Guinea\n",
    "2  Cases  Guinea\n",
    "3  Cases  Guinea\n",
    "4  Cases  Guinea\n",
    "\n",
    "<script.py> output:\n",
    "    (1952, 6)\n",
    "             Date  Day status_country  counts status country\n",
    "    0    1/5/2015  289   Cases_Guinea  2776.0  Cases  Guinea\n",
    "    1    1/4/2015  288   Cases_Guinea  2775.0  Cases  Guinea\n",
    "    2    1/3/2015  287   Cases_Guinea  2769.0  Cases  Guinea\n",
    "    3    1/2/2015  286   Cases_Guinea     NaN  Cases  Guinea\n",
    "    4  12/31/2014  284   Cases_Guinea  2730.0  Cases  Guinea"
   ]
  },
  {
   "cell_type": "markdown",
   "metadata": {},
   "source": [
    "## Finding and concatenating data\n",
    "\n",
    "### Concatenating many files\n",
    "- Leverage Python’s features with data cleaning in pandas\n",
    "- In order to concatenate DataFrames:\n",
    " - They must be in a list\n",
    " - Can individually load if there are a few datasets\n",
    " - But what if there are thousands?\n",
    "- Solution: glob function to find files based on a pattern\n",
    "\n",
    "### Globbing\n",
    "- Pa!ern matching for file names\n",
    "- Wildcards: * ?\n",
    " - Any csv file: *.csv\n",
    " - Any single character: file_?.csv\n",
    "- Returns a list of file names\n",
    "- Can use this list to load into separate DataFrames\n",
    "\n",
    "### The plan\n",
    "- Load files from globbing into pandas\n",
    "- Add the DataFrames into a list\n",
    "- Concatenate multiple datasets at once\n",
    "\n",
    "### Finding files that match a pattern\n",
    "\n",
    "Similarly, you can find all .csv files with '*.csv', or all parts with 'part_*'. The ? wildcard represents any 1 character, and the * wildcard represents any number of characters."
   ]
  },
  {
   "cell_type": "code",
   "execution_count": 23,
   "metadata": {},
   "outputs": [
    {
     "name": "stdout",
     "output_type": "stream",
     "text": [
      "['sampledata.csv', 'sampledata2.csv', 'sampledata3.csv']\n",
      "    ITEM_NO               ITEM_DESC  Logic Packs  Weber Packs  Discrepancies  \\\n",
      "0  44208068       BLANKET, YC (G&G)          461          960            499   \n",
      "1  44207692  REST, CHOPSTICK, ASIAN           14          168            154   \n",
      "2  44206900   BAG, NC HEADSET - RED            0          175            175   \n",
      "3  44207411      TRAY 1/3 ATLAS, YC            0           84             84   \n",
      "4  44207360            AIRSICK BAGS          258          385            127   \n",
      "\n",
      "   Inventory Discrepancy Value  Issue ACTIVE/INACTIVE  \n",
      "0                  $103,695.12    NaN           False  \n",
      "1                   $34,358.02    NaN           False  \n",
      "2                   $25,200.00    NaN           False  \n",
      "3                    $9,220.88    NaN           False  \n",
      "4                    $6,350.00    NaN           False  \n"
     ]
    }
   ],
   "source": [
    "# Import necessary modules\n",
    "import glob\n",
    "import pandas as pd\n",
    "\n",
    "# Write the pattern: pattern\n",
    "pattern = '*.csv'\n",
    "\n",
    "# Save all file matches: csv_files\n",
    "csv_files = glob.glob(pattern)\n",
    "\n",
    "# Print the file names\n",
    "print(csv_files)\n",
    "\n",
    "# Load the second file into a DataFrame: csv2\n",
    "csv2 = pd.read_csv(csv_files[1])\n",
    "\n",
    "# Print the head of csv2\n",
    "print(csv2.head())\n"
   ]
  },
  {
   "cell_type": "markdown",
   "metadata": {},
   "source": [
    "### Iterating and concatenating all matches\n",
    "\n",
    "Now that you have a list of filenames to load, you can load all the files into a list of DataFrames that can then be concatenated.\n",
    "\n",
    "You'll start with an empty list called frames. Your job is to use a for loop to iterate through each of the filenames, read each filename into a DataFrame, and then append it to the frames list.\n",
    "\n",
    "You can then concatenate this list of DataFrames using pd.concat()"
   ]
  },
  {
   "cell_type": "code",
   "execution_count": 25,
   "metadata": {},
   "outputs": [
    {
     "name": "stdout",
     "output_type": "stream",
     "text": [
      "(4032, 14)\n",
      "   AMC Item Number   Discrepancy Value   Inventory Discrepancy Value   \\\n",
      "0       L044207509          $25,945.19                            NaN   \n",
      "1       L044207668          $17,813.36                            NaN   \n",
      "2       L044207958          $14,445.00                            NaN   \n",
      "3       L044208068          $94,467.70                            NaN   \n",
      "4       L044207583          $63,712.00                            NaN   \n",
      "\n",
      "  ACTIVE/INACTIVE  Americold Count  Discrepancies  Discrepancy (cases)  \\\n",
      "0           False              NaN            NaN                900.0   \n",
      "1           False              NaN            NaN                540.0   \n",
      "2           False              NaN            NaN                500.0   \n",
      "3           False              NaN            NaN                440.0   \n",
      "4           False              NaN            NaN                362.0   \n",
      "\n",
      "                         ITEM_DESC   ITEM_NO Issue  Logic Count  Logic Packs  \\\n",
      "0  DRAWER, DELTA VARIO ATLAS 120MM  44207509   NaN       1335.0          NaN   \n",
      "1         TOILET PAPER, COTTENELLE  44207668   NaN        445.0          NaN   \n",
      "2         LINER, TRASH CAN, DOM SM  44207958   NaN        259.0          NaN   \n",
      "3                BLANKET, YC (G&G)  44208068   NaN        371.0          NaN   \n",
      "4  FOAMING SOAP, SQUARE M+G 5.4 oz  44207583   NaN        523.0          NaN   \n",
      "\n",
      "   Seafrigo Count  Weber Packs  \n",
      "0          2235.0          NaN  \n",
      "1           985.0          NaN  \n",
      "2           759.0          NaN  \n",
      "3           811.0          NaN  \n",
      "4           885.0          NaN  \n"
     ]
    }
   ],
   "source": [
    "# Create an empty list: frames\n",
    "frames = []\n",
    "\n",
    "#  Iterate over csv_files\n",
    "for csv in csv_files:\n",
    "\n",
    "    #  Read csv into a DataFrame: df\n",
    "    df = pd.read_csv(csv)\n",
    "    \n",
    "    # Append df to frames\n",
    "    frames.append(df)\n",
    "\n",
    "# Concatenate frames into a single DataFrame: uber\n",
    "uber = pd.concat(frames)\n",
    "\n",
    "# Print the shape of uber\n",
    "print(uber.shape)\n",
    "\n",
    "# Print the head of uber\n",
    "print(uber.head())"
   ]
  },
  {
   "cell_type": "markdown",
   "metadata": {},
   "source": [
    "## Merge data\n",
    "\n",
    "- Similar to joining tables in SQL\n",
    "- Combine disparate datasets based on common columns\n",
    "\n",
    "### Types of merges\n",
    "\n",
    "- One-to-one\n",
    "- Many-to-one / one-to-many\n",
    "- Many-to-many\n",
    "\n",
    "### Different types of merges\n",
    "\n",
    "- One-to-one\n",
    "- Many-to-one\n",
    "- Many-to-many\n",
    "- All use the same function\n",
    "- Only difference is the DataFrames you are merging\n",
    "\n",
    "### 1-to-1 data merge\n",
    "\n",
    "Merging data allows you to combine disparate datasets into a single dataset to do more complex analysis."
   ]
  },
  {
   "cell_type": "raw",
   "metadata": {},
   "source": [
    "# Merge the DataFrames: o2o\n",
    "o2o = pd.merge(left=site, right=visited, left_on='name', right_on='site')\n",
    "\n",
    "# Print o2o\n",
    "print(o2o)"
   ]
  },
  {
   "cell_type": "raw",
   "metadata": {},
   "source": [
    "<script.py> output:\n",
    "        name    lat    long  ident   site       dated\n",
    "    0   DR-1 -49.85 -128.57    619   DR-1  1927-02-08\n",
    "    1   DR-3 -47.15 -126.72    734   DR-3  1939-01-07\n",
    "    2  MSK-4 -48.87 -123.40    837  MSK-4  1932-01-14"
   ]
  },
  {
   "cell_type": "markdown",
   "metadata": {},
   "source": [
    "### Many-to-1 data merge\n",
    "\n",
    "In a many-to-one (or one-to-many) merge, one of the values will be duplicated and recycled in the output. That is, one of the keys in the merge is not unique.\n",
    "\n",
    "The .merge() method call is the same as the 1-to-1 merge from the previous exercise, but the data and output will be different."
   ]
  },
  {
   "cell_type": "raw",
   "metadata": {},
   "source": [
    "# Merge the DataFrames: m2o\n",
    "m2o = pd.merge(left=site,right=visited,left_on='name',right_on='site')\n",
    "\n",
    "# Print m2o\n",
    "print(m2o)"
   ]
  },
  {
   "cell_type": "raw",
   "metadata": {},
   "source": [
    "<script.py> output:\n",
    "        name    lat    long  ident   site       dated\n",
    "    0   DR-1 -49.85 -128.57    619   DR-1  1927-02-08\n",
    "    1   DR-1 -49.85 -128.57    622   DR-1  1927-02-10\n",
    "    2   DR-1 -49.85 -128.57    844   DR-1  1932-03-22\n",
    "    3   DR-3 -47.15 -126.72    734   DR-3  1939-01-07\n",
    "    4   DR-3 -47.15 -126.72    735   DR-3  1930-01-12\n",
    "    5   DR-3 -47.15 -126.72    751   DR-3  1930-02-26\n",
    "    6   DR-3 -47.15 -126.72    752   DR-3         NaN\n",
    "    7  MSK-4 -48.87 -123.40    837  MSK-4  1932-01-14"
   ]
  },
  {
   "cell_type": "markdown",
   "metadata": {},
   "source": [
    "### Many-to-many data merge\n",
    "\n",
    "The final merging scenario occurs when both DataFrames do not have unique keys for a merge. What happens here is that for each duplicated key, every pairwise combination will be created.\n",
    "\n",
    "Two example DataFrames that share common key values have been pre-loaded: df1 and df2. Another DataFrame df3, which is the result of df1 merged with df2, has been pre-loaded. All three DataFrames have been printed - look at the output and notice how pairwise combinations have been created. This example is to help you develop your intuition for many-to-many merges."
   ]
  },
  {
   "cell_type": "raw",
   "metadata": {},
   "source": [
    "# Merge site and visited: m2m\n",
    "m2m = pd.merge(left=site, right=visited, left_on='name', right_on='site')\n",
    "\n",
    "# Merge m2m and survey: m2m\n",
    "m2m = pd.merge(left=m2m, right=survey, left_on='ident', right_on='taken')\n",
    "\n",
    "# Print the first 20 lines of m2m\n",
    "print(m2m.head(20))"
   ]
  },
  {
   "cell_type": "raw",
   "metadata": {},
   "source": [
    "  c1  c2\n",
    "0  a   1\n",
    "1  a   2\n",
    "2  b   3\n",
    "3  b   4\n",
    "  c1  c2\n",
    "0  a  10\n",
    "1  a  20\n",
    "2  b  30\n",
    "3  b  40\n",
    "  c1  c2_x  c2_y\n",
    "0  a     1    10\n",
    "1  a     1    20\n",
    "2  a     2    10\n",
    "3  a     2    20\n",
    "4  b     3    30\n",
    "5  b     3    40\n",
    "6  b     4    30\n",
    "7  b     4    40\n",
    "\n",
    "<script.py> output:\n",
    "         name    lat    long  ident   site       dated  taken person quant  \\\n",
    "    0    DR-1 -49.85 -128.57    619   DR-1  1927-02-08    619   dyer   rad   \n",
    "    1    DR-1 -49.85 -128.57    619   DR-1  1927-02-08    619   dyer   sal   \n",
    "    2    DR-1 -49.85 -128.57    622   DR-1  1927-02-10    622   dyer   rad   \n",
    "    3    DR-1 -49.85 -128.57    622   DR-1  1927-02-10    622   dyer   sal   \n",
    "    4    DR-1 -49.85 -128.57    844   DR-1  1932-03-22    844    roe   rad   \n",
    "    5    DR-3 -47.15 -126.72    734   DR-3  1939-01-07    734     pb   rad   \n",
    "    6    DR-3 -47.15 -126.72    734   DR-3  1939-01-07    734   lake   sal   \n",
    "    7    DR-3 -47.15 -126.72    734   DR-3  1939-01-07    734     pb  temp   \n",
    "    8    DR-3 -47.15 -126.72    735   DR-3  1930-01-12    735     pb   rad   \n",
    "    9    DR-3 -47.15 -126.72    735   DR-3  1930-01-12    735    NaN   sal   \n",
    "    10   DR-3 -47.15 -126.72    735   DR-3  1930-01-12    735    NaN  temp   \n",
    "    11   DR-3 -47.15 -126.72    751   DR-3  1930-02-26    751     pb   rad   \n",
    "    12   DR-3 -47.15 -126.72    751   DR-3  1930-02-26    751     pb  temp   \n",
    "    13   DR-3 -47.15 -126.72    751   DR-3  1930-02-26    751   lake   sal   \n",
    "    14   DR-3 -47.15 -126.72    752   DR-3         NaN    752   lake   rad   \n",
    "    15   DR-3 -47.15 -126.72    752   DR-3         NaN    752   lake   sal   \n",
    "    16   DR-3 -47.15 -126.72    752   DR-3         NaN    752   lake  temp   \n",
    "    17   DR-3 -47.15 -126.72    752   DR-3         NaN    752    roe   sal   \n",
    "    18  MSK-4 -48.87 -123.40    837  MSK-4  1932-01-14    837   lake   rad   \n",
    "    19  MSK-4 -48.87 -123.40    837  MSK-4  1932-01-14    837   lake   sal   \n",
    "    \n",
    "        reading  \n",
    "    0      9.82  \n",
    "    1      0.13  \n",
    "    2      7.80  \n",
    "    3      0.09  \n",
    "    4     11.25  \n",
    "    5      8.41  \n",
    "    6      0.05  \n",
    "    7    -21.50  \n",
    "    8      7.22  \n",
    "    9      0.06  \n",
    "    10   -26.00  \n",
    "    11     4.35  \n",
    "    12   -18.50  \n",
    "    13     0.10  \n",
    "    14     2.19  \n",
    "    15     0.09  \n",
    "    16   -16.00  \n",
    "    17    41.60  \n",
    "    18     1.46  \n",
    "    19     0.21"
   ]
  },
  {
   "cell_type": "markdown",
   "metadata": {},
   "source": [
    "## Data types\n",
    "\n",
    "- There may be times we want to convert from one type to another\n",
    " - Numeric columns can be strings, or vice versa\n",
    " \n",
    "### Categorical data\n",
    "- Converting categorical data to ‘category’ dtype:\n",
    " - Can make the DataFrame smaller in memory\n",
    " - Can make them be utilized by other Python libraries for analysis "
   ]
  },
  {
   "cell_type": "markdown",
   "metadata": {
    "collapsed": true
   },
   "source": [
    "### Converting data types"
   ]
  },
  {
   "cell_type": "raw",
   "metadata": {},
   "source": [
    "# Convert the sex column to type 'category'\n",
    "tips.sex = tips.sex.astype('category')\n",
    "\n",
    "# Convert the smoker column to type 'category'\n",
    "tips.smoker = tips.smoker.astype('category')\n",
    "\n",
    "# Print the info of tips\n",
    "print(tips.info())"
   ]
  },
  {
   "cell_type": "raw",
   "metadata": {},
   "source": [
    "<script.py> output:\n",
    "    <class 'pandas.core.frame.DataFrame'>\n",
    "    RangeIndex: 244 entries, 0 to 243\n",
    "    Data columns (total 7 columns):\n",
    "    total_bill    244 non-null float64\n",
    "    tip           244 non-null float64\n",
    "    sex           244 non-null category\n",
    "    smoker        244 non-null category\n",
    "    day           244 non-null object\n",
    "    time          244 non-null object\n",
    "    size          244 non-null int64\n",
    "    dtypes: category(2), float64(2), int64(1), object(2)\n",
    "    memory usage: 10.1+ KB\n",
    "    None"
   ]
  },
  {
   "cell_type": "markdown",
   "metadata": {},
   "source": [
    "### Working with numeric data\n",
    "\n",
    "If you expect the data type of a column to be numeric (int or float), but instead it is of type object, this typically means that there is a non numeric value in the column, which also signifies bad data.\n",
    "\n",
    "You can use the pd.to_numeric() function to convert a column into a numeric data type. If the function raises an error, you can be sure that there is a bad value within the column. You can either use the techniques you learned in Chapter 1 to do some exploratory data analysis and find the bad value, or you can choose to ignore or coerce the value into a missing value, NaN."
   ]
  },
  {
   "cell_type": "raw",
   "metadata": {},
   "source": [
    "# Convert 'total_bill' to a numeric dtype\n",
    "tips['total_bill'] = pd.to_numeric(tips['total_bill'], errors='coerce')\n",
    "\n",
    "# Convert 'tip' to a numeric dtype\n",
    "tips['tip'] = pd.to_numeric(tips['tip'], errors='coerce')\n",
    "\n",
    "# Print the info of tips\n",
    "print(tips.info())"
   ]
  },
  {
   "cell_type": "raw",
   "metadata": {},
   "source": [
    "<script.py> output:\n",
    "    <class 'pandas.core.frame.DataFrame'>\n",
    "    RangeIndex: 244 entries, 0 to 243\n",
    "    Data columns (total 7 columns):\n",
    "    total_bill    202 non-null float64\n",
    "    tip           220 non-null float64\n",
    "    sex           234 non-null category\n",
    "    smoker        229 non-null category\n",
    "    day           243 non-null category\n",
    "    time          227 non-null category\n",
    "    size          231 non-null float64\n",
    "    dtypes: category(4), float64(3)\n",
    "    memory usage: 6.9 KB\n",
    "    None"
   ]
  },
  {
   "cell_type": "markdown",
   "metadata": {},
   "source": [
    "## Using regular expressions to clean strings\n",
    "\n",
    "### String manipulation\n",
    "- Much of data cleaning involves string manipulation \n",
    " - Most of the world’s data is unstructured text\n",
    "- Also have to do string manipulation to make datasets consistent with one another\n",
    "\n",
    "### String manipulation\n",
    "- Many built-in and external libraries \n",
    "- ‘re’ library for regular expressions\n",
    " - A formal way of specifying a pa ern\n",
    " - Sequence of characters Pa ern matching\n",
    "- Similar to globbing   \n",
    "\n",
    "### Using regular expressions\n",
    "- Compile the pattern\n",
    "- Use the compiled pattern to match values\n",
    "- This lets us use the pattern over and over again\n",
    "- Useful since we want to match values down a column of values\n",
    "\n",
    "### String parsing with regular expressions\n",
    "\n",
    "When working with data, it is sometimes necessary to write a regular expression to look for properly entered values. Phone numbers in a dataset is a common field that needs to be checked for validity. Your job in this exercise is to define a regular expression to match US phone numbers that fit the pattern of xxx-xxx-xxxx.\n",
    "\n",
    "The regular expression module in python is re. When performing pattern matching on data, since the pattern will be used for a match across multiple rows, it's better to compile the pattern first using re.compile(), and then use the compiled pattern to match values."
   ]
  },
  {
   "cell_type": "code",
   "execution_count": 2,
   "metadata": {},
   "outputs": [
    {
     "name": "stdout",
     "output_type": "stream",
     "text": [
      "True\n",
      "False\n"
     ]
    }
   ],
   "source": [
    "# Import the regular expression module\n",
    "import re\n",
    "\n",
    "# Compile the pattern: prog\n",
    "prog = re.compile('\\d{3}-\\d{3}-\\d{4}')\n",
    "\n",
    "# See if the pattern matches\n",
    "result = prog.match('123-456-7890')\n",
    "print(bool(result))\n",
    "\n",
    "# See if the pattern matches\n",
    "result = prog.match('1123-456-7890')\n",
    "print(bool(result))"
   ]
  },
  {
   "cell_type": "markdown",
   "metadata": {},
   "source": [
    "### Extracting numerical values from strings\n",
    "\n",
    "Extracting numbers from strings is a common task, particularly when working with unstructured data or log files.\n",
    "\n",
    "Say you have the following string: 'the recipe calls for 6 strawberries and 2 bananas'.\n",
    "\n",
    "It would be useful to extract the 6 and the 2 from this string to be saved for later use when comparing strawberry to banana ratios.\n",
    "\n",
    "When using a regular expression to extract multiple numbers (or multiple pattern matches, to be exact), you can use the re.findall() function. Dan did not discuss this in the video, but it is straightforward to use: You pass in a pattern and a string to re.findall(), and it will return a list of the matches."
   ]
  },
  {
   "cell_type": "code",
   "execution_count": 3,
   "metadata": {},
   "outputs": [
    {
     "name": "stdout",
     "output_type": "stream",
     "text": [
      "['10', '1']\n"
     ]
    }
   ],
   "source": [
    "# Import the regular expression module\n",
    "import re\n",
    "\n",
    "# Find the numeric values: matches\n",
    "matches = re.findall('\\d+', 'the recipe calls for 10 strawberries and 1 banana')\n",
    "\n",
    "# Print the matches\n",
    "print(matches)"
   ]
  },
  {
   "cell_type": "markdown",
   "metadata": {},
   "source": [
    "### Pattern matching\n",
    "\n",
    "write the appropriate pattern to match it."
   ]
  },
  {
   "cell_type": "code",
   "execution_count": 4,
   "metadata": {},
   "outputs": [
    {
     "name": "stdout",
     "output_type": "stream",
     "text": [
      "True\n",
      "True\n",
      "True\n"
     ]
    }
   ],
   "source": [
    "# Write the first pattern\n",
    "pattern1 = bool(re.match(pattern='\\d{3}-\\d{3}-\\d{4}', string='123-456-7890'))\n",
    "print(pattern1)\n",
    "\n",
    "# Write the second pattern\n",
    "pattern2 = bool(re.match(pattern='\\$\\d*\\d{2}', string='$123.45'))\n",
    "print(pattern2)\n",
    "\n",
    "# Write the third pattern\n",
    "pattern3 = bool(re.match(pattern='[A-Z]\\w*', string='Australia'))\n",
    "print(pattern3)"
   ]
  },
  {
   "cell_type": "markdown",
   "metadata": {},
   "source": [
    "## Using functions to clean data\n",
    "\n",
    "### Complex cleaning\n",
    "- Cleaning step requires multiple steps \n",
    " - Extract number from string\n",
    " - Perform transformation on extracted number \n",
    "- Python function"
   ]
  },
  {
   "cell_type": "markdown",
   "metadata": {},
   "source": [
    "### Custom functions to clean data"
   ]
  },
  {
   "cell_type": "raw",
   "metadata": {},
   "source": [
    "# Define recode_sex()\n",
    "def recode_sex(sex_value):\n",
    "\n",
    "    # Return 1 if sex_value is 'Male'\n",
    "    if sex_value == 'Male':\n",
    "        return 1\n",
    "    \n",
    "    # Return 0 if sex_value is 'Female'    \n",
    "    elif sex_value == 'Female':\n",
    "        return 0\n",
    "    \n",
    "    # Return np.nan    \n",
    "    else:\n",
    "        return np.nan \n",
    "\n",
    "# Apply the function to the sex column\n",
    "tips['sex_recode'] = tips.sex.apply(recode_sex)\n",
    "\n",
    "# Print the first five rows of tips\n",
    "print(tips.head())"
   ]
  },
  {
   "cell_type": "raw",
   "metadata": {},
   "source": [
    "<script.py> output:\n",
    "       total_bill   tip     sex smoker  day    time  size  sex_recode\n",
    "    0       16.99  1.01  Female     No  Sun  Dinner   2.0         0.0\n",
    "    1       10.34  1.66    Male     No  Sun  Dinner   3.0         1.0\n",
    "    2       21.01  3.50    Male     No  Sun  Dinner   3.0         1.0\n",
    "    3       23.68  3.31    Male     No  Sun  Dinner   2.0         1.0\n",
    "    4       24.59  3.61  Female     No  Sun  Dinner   4.0         0.0"
   ]
  },
  {
   "cell_type": "markdown",
   "metadata": {},
   "source": [
    "### Lambda functions\n",
    "\n",
    "Instead of using the def syntax that you used in the previous exercise, lambda functions let you make simple, one-line functions.\n",
    "\n",
    "For example, here's a function that squares a variable used in an .apply() method:\n",
    "\n",
    "def my_square(x):\n",
    "    return x ** 2\n",
    "\n",
    "df.apply(my_square)\n",
    "\n",
    "The equivalent code using a lambda function is:\n",
    "\n",
    "df.apply(lambda x: x ** 2)\n",
    "\n",
    "The lambda function takes one parameter - the variable x. The function itself just squares x and returns the result, which is whatever the one line of code evaluates to. In this way, lambda functions can make your code concise and Pythonic."
   ]
  },
  {
   "cell_type": "raw",
   "metadata": {},
   "source": [
    "# Write the lambda function using replace\n",
    "tips['total_dollar_replace'] = tips['total_dollar'].apply(lambda x: x.replace('$', ''))\n",
    "\n",
    "# Write the lambda function using regular expressions\n",
    "tips['total_dollar_re'] = tips['total_dollar'].apply(lambda x: re.findall('\\d+\\.\\d+', x)[0])\n",
    "\n",
    "# Print the head of tips\n",
    "print(tips.head())"
   ]
  },
  {
   "cell_type": "raw",
   "metadata": {},
   "source": [
    "<script.py> output:\n",
    "       total_bill   tip     sex smoker  day    time  size total_dollar  \\\n",
    "    0       16.99  1.01  Female     No  Sun  Dinner     2       $16.99   \n",
    "    1       10.34  1.66    Male     No  Sun  Dinner     3       $10.34   \n",
    "    2       21.01  3.50    Male     No  Sun  Dinner     3       $21.01   \n",
    "    3       23.68  3.31    Male     No  Sun  Dinner     2       $23.68   \n",
    "    4       24.59  3.61  Female     No  Sun  Dinner     4       $24.59   \n",
    "    \n",
    "      total_dollar_replace total_dollar_re  \n",
    "    0                16.99           16.99  \n",
    "    1                10.34           10.34  \n",
    "    2                21.01           21.01  \n",
    "    3                23.68           23.68  \n",
    "    4                24.59           24.59"
   ]
  },
  {
   "cell_type": "markdown",
   "metadata": {},
   "source": [
    "## Duplicate and missing data\n",
    "\n",
    "- Can skew results \n",
    "- ‘.drop_duplicates()’ method\n",
    "\n",
    "### Fill missing values with .fillna()\n",
    "- Fill with provided value \n",
    "- Use a summary statistic\n",
    "\n",
    "### Fill missing values with a test statistic\n",
    "- Careful when using test statistics to fill\n",
    "- Have to make sure the value you are filling in makes sense \n",
    "- Median is a be er statistic in the presence of outliers\n",
    "\n",
    "### Dropping duplicate data\n",
    "\n",
    "Duplicate data causes a variety of problems. From the point of view of performance, they use up unnecessary amounts of memory and cause unneeded calculations to be performed when processing data. In addition, they can also bias any analysis results."
   ]
  },
  {
   "cell_type": "raw",
   "metadata": {},
   "source": [
    "# Create the new DataFrame: tracks\n",
    "tracks = billboard[['year','artist','track','time']]\n",
    "\n",
    "# Print info of tracks\n",
    "print(tracks.info())\n",
    "\n",
    "# Drop the duplicates: tracks_no_duplicates\n",
    "tracks_no_duplicates = tracks.drop_duplicates()\n",
    "\n",
    "# Print info of tracks\n",
    "print(tracks_no_duplicates.info())"
   ]
  },
  {
   "cell_type": "raw",
   "metadata": {},
   "source": [
    "<script.py> output:\n",
    "    <class 'pandas.core.frame.DataFrame'>\n",
    "    RangeIndex: 24092 entries, 0 to 24091\n",
    "    Data columns (total 4 columns):\n",
    "    year      24092 non-null int64\n",
    "    artist    24092 non-null object\n",
    "    track     24092 non-null object\n",
    "    time      24092 non-null object\n",
    "    dtypes: int64(1), object(3)\n",
    "    memory usage: 753.0+ KB\n",
    "    None\n",
    "    <class 'pandas.core.frame.DataFrame'>\n",
    "    Int64Index: 317 entries, 0 to 316\n",
    "    Data columns (total 4 columns):\n",
    "    year      317 non-null int64\n",
    "    artist    317 non-null object\n",
    "    track     317 non-null object\n",
    "    time      317 non-null object\n",
    "    dtypes: int64(1), object(3)\n",
    "    memory usage: 12.4+ KB\n",
    "    None"
   ]
  },
  {
   "cell_type": "markdown",
   "metadata": {},
   "source": [
    "### Filling missing data"
   ]
  },
  {
   "cell_type": "raw",
   "metadata": {},
   "source": [
    "# Calculate the mean of the Ozone column: oz_mean\n",
    "oz_mean = airquality['Ozone'].mean()\n",
    "\n",
    "# Replace all the missing values in the Ozone column with the mean\n",
    "airquality['Ozone'] = airquality.Ozone.fillna(oz_mean)\n",
    "\n",
    "# Print the info of airquality\n",
    "print(airquality.info())"
   ]
  },
  {
   "cell_type": "raw",
   "metadata": {},
   "source": [
    "<script.py> output:\n",
    "    <class 'pandas.core.frame.DataFrame'>\n",
    "    RangeIndex: 153 entries, 0 to 152\n",
    "    Data columns (total 6 columns):\n",
    "    Ozone      153 non-null float64\n",
    "    Solar.R    146 non-null float64\n",
    "    Wind       153 non-null float64\n",
    "    Temp       153 non-null int64\n",
    "    Month      153 non-null int64\n",
    "    Day        153 non-null int64\n",
    "    dtypes: float64(3), int64(3)\n",
    "    memory usage: 7.2 KB\n",
    "    None"
   ]
  },
  {
   "cell_type": "markdown",
   "metadata": {},
   "source": [
    "## Testing with asserts\n",
    "\n",
    "### Assert statements\n",
    "- Programmatically vs visually checking\n",
    "- If we drop or fill NaNs, we expect 0 missing values \n",
    "- We can write an assert statement to verify this \n",
    "- We can detect early warnings and errors\n",
    "- This gives us confidence that our code is running correctly\n",
    "\n",
    "### Testing your data with asserts\n",
    "\n",
    "use the .all() method together with the .notnull() DataFrame method to check for missing values in a column. The .all() method returns True if all values are True. When used on a DataFrame, it returns a Series of Booleans - one for each column in the DataFrame. So if you are using it on a DataFrame, like in this exercise, you need to chain another .all() method so that you return only one True or False value. When using these within an assert statement, nothing will be returned if the assert statement is true: This is how you can confirm that the data you are checking are valid.\n",
    "\n",
    "Note: You can use pd.notnull(df) as an alternative to df.notnull()."
   ]
  },
  {
   "cell_type": "raw",
   "metadata": {},
   "source": [
    "# Assert that there are no missing values\n",
    "assert pd.notnull(ebola).all().all()\n",
    "\n",
    "# Assert that all values are >= 0\n",
    "assert (ebola >= 0).all().all()"
   ]
  },
  {
   "cell_type": "markdown",
   "metadata": {},
   "source": [
    "# Putting it all together\n",
    "\n",
    "- Load and view data in pandas\n",
    "- Visually inspect data for errors and potential problems\n",
    "- Tidy data for analysis and reshape it\n",
    "- Combine datasets\n",
    "- Clean data by using regular expressions and functions\n",
    "- Test your data and be proactive in finding potential errors\n",
    "\n",
    "### Combining data\n",
    "- pd.merge(df1, df2, ...) \n",
    "- pd.concat([df1, df2, df3, ...])\n",
    "\n",
    "## Initial impressions of the data\n",
    "\n",
    "### Principles of tidy data\n",
    "- Rows form observations\n",
    "- Columns form variables\n",
    "- Tidying data will make data cleaning easier \n",
    "- Melting turns columns into rows\n",
    "- Pivot will take unique values from a column and create new columns\n",
    "\n",
    "### Exploratory analysis\n",
    "\n",
    "Whenever you obtain a new dataset, your first task should always be to do some exploratory analysis to get a better understanding of the data and diagnose it for any potential issues.\n",
    "\n",
    "The Gapminder data for the 19th century has been loaded into a DataFrame called g1800s. In the IPython Shell, use pandas methods such as .head(), .info(), and .describe(), and DataFrame attributes like .columns and .shape to explore it.\n",
    "\n",
    "### Visualizing your data\n",
    "\n",
    "### Thinking about the question at hand\n",
    "\n",
    "Since you are given life expectancy level data by country and year, you could ask questions about how much the average life expectancy changes over each year.\n",
    "\n",
    "Before continuing, however, it's important to make sure that the following assumptions about the data are true:\n",
    "\n",
    "'Life expectancy' is the first column (index 0) of the DataFrame.\n",
    "The other columns contain either null or numeric values.\n",
    "The numeric values are all greater than or equal to 0.\n",
    "There is only one instance of each country.\n",
    "You can write a function that you can apply over the entire DataFrame to verify some of these assumptions. Note that spending the time to write such a script will help you when working with other datasets as well."
   ]
  },
  {
   "cell_type": "raw",
   "metadata": {},
   "source": [
    "def check_null_or_valid(row_data):\n",
    "    \"\"\"Function that takes a row of data,\n",
    "    drops all missing values,\n",
    "    and checks if all remaining values are greater than or equal to 0\n",
    "    \"\"\"\n",
    "    no_na = row_data.dropna()[1:-1]\n",
    "    numeric = pd.to_numeric(no_na)\n",
    "    ge0 = numeric >= 0\n",
    "    return ge0\n",
    "\n",
    "# Check whether the first column is 'Life expectancy'\n",
    "assert g1800s.columns[0] == 'Life expectancy'\n",
    "\n",
    "# Check whether the values in the row are valid\n",
    "assert g1800s.iloc[:, 1:].apply(check_null_or_valid, axis=1).all().all()\n",
    "\n",
    "# Check that there is only one instance of each country\n",
    "assert g1800s['Life expectancy'].value_counts()[0] == 1"
   ]
  },
  {
   "cell_type": "markdown",
   "metadata": {},
   "source": [
    "### Assembling your data"
   ]
  },
  {
   "cell_type": "raw",
   "metadata": {},
   "source": [
    "# Concatenate the DataFrames row-wise\n",
    "gapminder = pd.concat([g1800s,g1900s,g2000s])\n",
    "\n",
    "# Print the shape of gapminder\n",
    "print(gapminder.shape)\n",
    "\n",
    "# Print the head of gapminder\n",
    "print(gapminder.head())"
   ]
  },
  {
   "cell_type": "raw",
   "metadata": {},
   "source": [
    "<script.py> output:\n",
    "    (780, 218)\n",
    "        1800   1801   1802   1803   1804   1805   1806   1807   1808   1809  \\\n",
    "    0    NaN    NaN    NaN    NaN    NaN    NaN    NaN    NaN    NaN    NaN   \n",
    "    1  28.21  28.20  28.19  28.18  28.17  28.16  28.15  28.14  28.13  28.12   \n",
    "    2    NaN    NaN    NaN    NaN    NaN    NaN    NaN    NaN    NaN    NaN   \n",
    "    3  35.40  35.40  35.40  35.40  35.40  35.40  35.40  35.40  35.40  35.40   \n",
    "    4  28.82  28.82  28.82  28.82  28.82  28.82  28.82  28.82  28.82  28.82   \n",
    "    \n",
    "               ...            2008  2009  2010  2011  2012  2013  2014  2015  \\\n",
    "    0          ...             NaN   NaN   NaN   NaN   NaN   NaN   NaN   NaN   \n",
    "    1          ...             NaN   NaN   NaN   NaN   NaN   NaN   NaN   NaN   \n",
    "    2          ...             NaN   NaN   NaN   NaN   NaN   NaN   NaN   NaN   \n",
    "    3          ...             NaN   NaN   NaN   NaN   NaN   NaN   NaN   NaN   \n",
    "    4          ...             NaN   NaN   NaN   NaN   NaN   NaN   NaN   NaN   \n",
    "    \n",
    "       2016        Life expectancy  \n",
    "    0   NaN               Abkhazia  \n",
    "    1   NaN            Afghanistan  \n",
    "    2   NaN  Akrotiri and Dhekelia  \n",
    "    3   NaN                Albania  \n",
    "    4   NaN                Algeria  \n",
    "    \n",
    "    [5 rows x 218 columns]"
   ]
  },
  {
   "cell_type": "markdown",
   "metadata": {},
   "source": [
    "### Reshaping your data\n",
    "\n",
    "Now that you have all the data combined into a single DataFrame, the next step is to reshape it into a tidy data format."
   ]
  },
  {
   "cell_type": "raw",
   "metadata": {},
   "source": [
    "# Melt gapminder: gapminder_melt\n",
    "gapminder_melt = pd.melt(gapminder,id_vars='Life expectancy')\n",
    "\n",
    "# Rename the columns\n",
    "gapminder_melt.columns = ['country','year','life_expectancy']\n",
    "\n",
    "# Print the head of gapminder_melt\n",
    "print(gapminder_melt.head())"
   ]
  },
  {
   "cell_type": "raw",
   "metadata": {},
   "source": [
    "<script.py> output:\n",
    "                     country  year  life_expectancy\n",
    "    0               Abkhazia  1800              NaN\n",
    "    1            Afghanistan  1800            28.21\n",
    "    2  Akrotiri and Dhekelia  1800              NaN\n",
    "    3                Albania  1800            35.40\n",
    "    4                Algeria  1800            28.82"
   ]
  },
  {
   "cell_type": "markdown",
   "metadata": {},
   "source": [
    "### Checking the data types"
   ]
  },
  {
   "cell_type": "raw",
   "metadata": {},
   "source": [
    "# Convert the year column to numeric\n",
    "gapminder.year = pd.to_numeric(gapminder.year)\n",
    "\n",
    "# Test if country is of type object\n",
    "assert gapminder.country.dtypes == np.object\n",
    "\n",
    "# Test if year is of type int64\n",
    "assert gapminder.year.dtypes==np.int64\n",
    "\n",
    "# Test if life_expectancy is of type float64\n",
    "assert gapminder.life_expectancy.dtypes == np.float64"
   ]
  },
  {
   "cell_type": "markdown",
   "metadata": {},
   "source": [
    "### Looking at country spellings\n",
    "\n",
    "Having tidied your DataFrame and checked the data types, your next task in the data cleaning process is to look at the 'country' column to see if there are any special or invalid characters you may need to deal with.\n",
    "\n",
    "It is reasonable to assume that country names will contain:\n",
    "\n",
    "The set of lower and upper case letters.\n",
    "Whitespace between words.\n",
    "Periods for any abbreviations.\n",
    "To confirm that this is the case, you can leverage the power of regular expressions again. For common operations like this, Python has a built-in string method - str.contains() - which takes a regular expression pattern, and applies it to the Series, returning True if there is a match, and False otherwise.\n",
    "\n",
    "Since here you want to find the values that do not match, you have to invert the boolean, which can be done using ~. This Boolean series can then be used to get the Series of countries that have invalid names"
   ]
  },
  {
   "cell_type": "raw",
   "metadata": {},
   "source": [
    "# Create the series of countries: countries\n",
    "countries = gapminder['country']\n",
    "\n",
    "# Drop all the duplicates from countries\n",
    "countries = countries.drop_duplicates()\n",
    "\n",
    "# Write the regular expression: pattern\n",
    "pattern = '^[A-Za-z\\.\\s]*$'\n",
    "\n",
    "# Create the Boolean vector: mask\n",
    "mask = countries.str.contains(pattern)\n",
    "\n",
    "# Invert the mask: mask_inverse\n",
    "mask_inverse = ~mask\n",
    "\n",
    "# Subset countries using mask_inverse: invalid_countries\n",
    "invalid_countries = countries.loc[mask_inverse]\n",
    "\n",
    "# Print invalid_countries\n",
    "print(invalid_countries)"
   ]
  },
  {
   "cell_type": "raw",
   "metadata": {},
   "source": [
    "<script.py> output:\n",
    "    49            Congo, Dem. Rep.\n",
    "    50                 Congo, Rep.\n",
    "    53               Cote d'Ivoire\n",
    "    73      Falkland Is (Malvinas)\n",
    "    93               Guinea-Bissau\n",
    "    98            Hong Kong, China\n",
    "    118    United Korea (former)\\n\n",
    "    131               Macao, China\n",
    "    132             Macedonia, FYR\n",
    "    145      Micronesia, Fed. Sts.\n",
    "    161            Ngorno-Karabakh\n",
    "    187             St. Barthélemy\n",
    "    193     St.-Pierre-et-Miquelon\n",
    "    225                Timor-Leste\n",
    "    251      Virgin Islands (U.S.)\n",
    "    252       North Yemen (former)\n",
    "    253       South Yemen (former)\n",
    "    258                      Åland\n",
    "    Name: country, dtype: object"
   ]
  },
  {
   "cell_type": "markdown",
   "metadata": {},
   "source": [
    "### More data cleaning and processing\n",
    "\n",
    "It's now time to deal with the missing data. There are several strategies for this: You can drop them, fill them in using the mean of the column or row that the missing value is in (also known as imputation), or, if you are dealing with time series data, use a forward fill or backward fill, in which you replace missing values in a column with the most recent known value in the column. See pandas Foundations for more on forward fill and backward fill.\n",
    "\n",
    "In general, it is not the best idea to drop missing values, because in doing so you may end up throwing away useful information. In this data, the missing values refer to years where no estimate for life expectancy is available for a given country. You could fill in, or guess what these life expectancies could be by looking at the average life expectancies for other countries in that year, for example. Whichever strategy you go with, it is important to carefully consider all options and understand how they will affect your data."
   ]
  },
  {
   "cell_type": "raw",
   "metadata": {},
   "source": [
    "# Assert that country does not contain any missing values\n",
    "assert pd.notnull(gapminder.country).all()\n",
    "\n",
    "# Assert that year does not contain any missing values\n",
    "assert pd.notnull(gapminder.year).all()\n",
    "\n",
    "# Drop the missing values\n",
    "gapminder = gapminder.dropna(axis=0,how='any')\n",
    "\n",
    "# Print the shape of gapminder\n",
    "print(gapminder.shape)"
   ]
  },
  {
   "cell_type": "raw",
   "metadata": {},
   "source": [
    "<script.py> output:\n",
    "    (43857, 3)"
   ]
  },
  {
   "cell_type": "markdown",
   "metadata": {},
   "source": [
    "### Wrapping up\n",
    "\n",
    "Now that you have a clean and tidy dataset, you can do a bit of visualization and aggregation\n",
    "\n",
    "To investigate how average life expectancy changed over the years. You need to subset the data by each year, get the life_expectancy column from each subset, and take an average of the values. You can achieve this using the .groupby() method.\n",
    "\n",
    "Finally, you can save your tidy and summarized DataFrame to a file using the .to_csv() method."
   ]
  },
  {
   "cell_type": "raw",
   "metadata": {},
   "source": [
    "# Add first subplot\n",
    "plt.subplot(2, 1, 1) \n",
    "\n",
    "# Create a histogram of life_expectancy\n",
    "gapminder.life_expectancy.plot(kind='hist')\n",
    "\n",
    "# Group gapminder: gapminder_agg\n",
    "gapminder_agg = gapminder.groupby('year')['life_expectancy'].mean()\n",
    "\n",
    "# Print the head of gapminder_agg\n",
    "print(gapminder_agg.head())\n",
    "\n",
    "# Print the tail of gapminder_agg\n",
    "print(gapminder_agg.tail())\n",
    "\n",
    "# Add second subplot\n",
    "plt.subplot(2, 1, 2)\n",
    "\n",
    "# Create a line plot of life expectancy per year\n",
    "gapminder_agg.plot()\n",
    "\n",
    "# Add title and specify axis labels\n",
    "plt.title('Life expectancy over the years')\n",
    "plt.ylabel('Life expectancy')\n",
    "plt.xlabel('Year')\n",
    "\n",
    "# Display the plots\n",
    "plt.tight_layout()\n",
    "plt.show()\n",
    "\n",
    "# Save both DataFrames to csv files\n",
    "gapminder.to_csv('gapminder.csv')\n",
    "gapminder_agg.to_csv('gapminder_agg.csv')"
   ]
  },
  {
   "cell_type": "raw",
   "metadata": {},
   "source": [
    "<script.py> output:\n",
    "    year\n",
    "    1800    31.486020\n",
    "    1801    31.448905\n",
    "    1802    31.463483\n",
    "    1803    31.377413\n",
    "    1804    31.446318\n",
    "    Name: life_expectancy, dtype: float64\n",
    "    year\n",
    "    2012    71.663077\n",
    "    2013    71.916106\n",
    "    2014    72.088125\n",
    "    2015    72.321010\n",
    "    2016    72.556635\n",
    "    Name: life_expectancy, dtype: float64"
   ]
  },
  {
   "cell_type": "code",
   "execution_count": null,
   "metadata": {
    "collapsed": true
   },
   "outputs": [],
   "source": []
  }
 ],
 "metadata": {
  "kernelspec": {
   "display_name": "Python 3",
   "language": "python",
   "name": "python3"
  },
  "language_info": {
   "codemirror_mode": {
    "name": "ipython",
    "version": 3
   },
   "file_extension": ".py",
   "mimetype": "text/x-python",
   "name": "python",
   "nbconvert_exporter": "python",
   "pygments_lexer": "ipython3",
   "version": "3.6.3"
  }
 },
 "nbformat": 4,
 "nbformat_minor": 2
}
