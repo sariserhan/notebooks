{
 "cells": [
  {
   "cell_type": "markdown",
   "metadata": {},
   "source": [
    "# SQL"
   ]
  },
  {
   "cell_type": "raw",
   "metadata": {},
   "source": [
    "SQL, which stands for Structured Query Language, is a language for interacting with data stored in something called a relational database.\n",
    "\n",
    "You can think of a relational database as a collection of tables. A table is just a set of rows and columns, like a spreadsheet, which represents exactly one type of entity. For example, a table might represent employees in a company or purchases made, but not both.\n",
    "\n",
    "Each row, or record, of a table contains information about a single entity. For example, in a table representing employees, each row represents a single person. Each column, or field, of a table contains a single attribute for all rows in the table."
   ]
  },
  {
   "cell_type": "markdown",
   "metadata": {},
   "source": [
    "### SELECTing single columns"
   ]
  },
  {
   "cell_type": "raw",
   "metadata": {},
   "source": [
    "While SQL can be used to create and modify databases, the focus of this course will be querying databases. A query is a request for data from a database table (or combination of tables). Querying is an essential skill for a data scientist, since the data you need for your analyses will often live in databases.\n",
    "\n",
    "In SQL, you can select data from a table using a SELECT statement. For example, the following query selects the name column from the people table:\n",
    "\n",
    "SELECT name\n",
    "FROM people;\n",
    "\n",
    "In this query, SELECT and FROM are called keywords. In SQL, keywords are not case-sensitive, which means you can write the same query as:\n",
    "\n",
    "select name\n",
    "from people;\n"
   ]
  },
  {
   "cell_type": "markdown",
   "metadata": {},
   "source": [
    "### SELECTing multiple columns"
   ]
  },
  {
   "cell_type": "raw",
   "metadata": {},
   "source": [
    "In the real world, you will often want to select multiple columns. Luckily, SQL makes this really easy. To select multiple columns from a table, simply separate the column names with commas!\n",
    "\n",
    "For example, this query selects two columns, name and birthdate, from the people table:\n",
    "\n",
    "SELECT name, birthdate\n",
    "FROM people;\n",
    "Sometimes, you may want to select all columns from a table. Typing out every column name would be a pain, so there's a handy shortcut:\n",
    "\n",
    "SELECT *\n",
    "FROM people;\n",
    "If you only want to return a certain number of results, you can use the LIMIT keyword to limit the number of rows returned:\n",
    "\n",
    "SELECT *\n",
    "FROM people\n",
    "LIMIT 10;"
   ]
  },
  {
   "cell_type": "markdown",
   "metadata": {},
   "source": [
    "### SELECT DISTINCT"
   ]
  },
  {
   "cell_type": "raw",
   "metadata": {},
   "source": [
    "Often your results will include many duplicate values. If you want to select all the unique values from a column, you can use the DISTINCT keyword.\n",
    "\n",
    "This might be useful if, for example, you're interested in knowing which languages are represented in the films table:\n",
    "\n",
    "SELECT DISTINCT language\n",
    "FROM films;"
   ]
  },
  {
   "cell_type": "markdown",
   "metadata": {},
   "source": [
    "### COUNT"
   ]
  },
  {
   "cell_type": "raw",
   "metadata": {},
   "source": [
    "The COUNT statement lets you do this by returning the number of rows in one or more columns.\n",
    "\n",
    "For example, this code gives the number of rows in the people table:\n",
    "\n",
    "SELECT COUNT(*)\n",
    "FROM people;\n",
    "\n",
    "to count the number of birth dates present in the people table:\n",
    "\n",
    "SELECT COUNT(birthdate)\n",
    "FROM people;\n",
    "It's also common to combine COUNT with DISTINCT to count the number of distinct values in a column.\n",
    "\n",
    "For example, this query counts the number of distinct birth dates contained in the people table:\n",
    "\n",
    "SELECT COUNT(DISTINCT birthdate)\n",
    "FROM people;"
   ]
  },
  {
   "cell_type": "markdown",
   "metadata": {},
   "source": [
    "### Filtering results"
   ]
  },
  {
   "cell_type": "raw",
   "metadata": {},
   "source": [
    "In SQL, the WHERE keyword allows you to filter based on both text and numeric values in a table. There are a few different comparison operators you can use:\n",
    "\n",
    "= equal\n",
    "<> not equal\n",
    "< less than\n",
    "> greater than\n",
    "<= less than or equal to\n",
    ">= greater than or equal to\n",
    "For example, you can filter text records such as title. The following code returns all films with the title 'Metropolis':\n",
    "\n",
    "SELECT title\n",
    "FROM films\n",
    "WHERE title = 'Metropolis';\n",
    "Notice that the WHERE clause always comes after the FROM statement!\n",
    "\n",
    "Note that in this course we will use <> and not != for the not equal operator, as per the SQL standard."
   ]
  },
  {
   "cell_type": "markdown",
   "metadata": {},
   "source": [
    "### WHERE AND OR"
   ]
  },
  {
   "cell_type": "raw",
   "metadata": {},
   "source": [
    "What if you want to select rows based on multiple conditions where some but not all of the conditions need to be met? For this, SQL has the OR operator.\n",
    "\n",
    "For example, the following returns all films released in either 1994 or 2000:\n",
    "\n",
    "SELECT title\n",
    "FROM films\n",
    "WHERE release_year = 1994\n",
    "OR release_year = 2000;\n",
    "Note that you need to specify the column for every OR condition, so the following is invalid:\n",
    "\n",
    "SELECT title\n",
    "FROM films\n",
    "WHERE release_year = 1994 OR 2000;\n",
    "When combining AND and OR, be sure to enclose the individual clauses in parentheses, like so:\n",
    "\n",
    "SELECT title\n",
    "FROM films\n",
    "WHERE (release_year = 1994 OR release_year = 1995)\n",
    "AND (certification = 'PG' OR certification = 'R');\n",
    "Otherwise, due to SQL's precedence rules, you may not get the results you're expecting!"
   ]
  },
  {
   "cell_type": "markdown",
   "metadata": {},
   "source": [
    "### BETWEEN"
   ]
  },
  {
   "cell_type": "raw",
   "metadata": {},
   "source": [
    "You can use the following query to get titles of all films released in and between 1994 and 2000:\n",
    "\n",
    "SELECT title\n",
    "FROM films\n",
    "WHERE release_year >= 1994\n",
    "AND release_year <= 2000;\n",
    "Checking for ranges like this is very common, so in SQL the BETWEEN keyword provides a useful shorthand for filtering values within a specified range. This query is equivalent to the one above:\n",
    "\n",
    "SELECT title\n",
    "FROM films\n",
    "WHERE release_year\n",
    "BETWEEN 1994 AND 2000;\n",
    "It's important to remember that BETWEEN is inclusive, meaning the beginning and end values are included in the results!"
   ]
  },
  {
   "cell_type": "markdown",
   "metadata": {},
   "source": [
    "### WHERE IN"
   ]
  },
  {
   "cell_type": "raw",
   "metadata": {},
   "source": [
    "WHERE is very useful for filtering results. However, if you want to filter based on many conditions, WHERE can get unwieldy. For example:\n",
    "\n",
    "SELECT name\n",
    "FROM kids\n",
    "WHERE age = 2\n",
    "OR age = 4\n",
    "OR age = 6\n",
    "OR age = 8\n",
    "OR age = 10;\n",
    "Enter the IN operator! The IN operator allows you to specify multiple values in a WHERE clause, making it easier and quicker to specify multiple OR conditions! Neat, right?\n",
    "\n",
    "So, the above example would become simply:\n",
    "\n",
    "SELECT name\n",
    "FROM kids\n",
    "WHERE age IN (2, 4, 6, 8, 10);"
   ]
  },
  {
   "cell_type": "markdown",
   "metadata": {},
   "source": [
    "### Introduction to NULL and IS NULL"
   ]
  },
  {
   "cell_type": "raw",
   "metadata": {},
   "source": [
    "SQL, NULL represents a missing or unknown value. You can check for NULL values using the expression IS NULL. For example, to count the number of missing birth dates in the people table:\n",
    "\n",
    "SELECT COUNT(*)\n",
    "FROM people\n",
    "WHERE birthdate IS NULL;\n",
    "As you can see, IS NULL is useful when combined with WHERE to figure out what data you're missing.\n",
    "\n",
    "Sometimes, you'll want to filter out missing values so you only get results which are not NULL. To do this, you can use the IS NOT NULL operator.\n",
    "\n",
    "For example, this query gives the names of all people whose birth dates are not missing in the people table.\n",
    "\n",
    "SELECT name\n",
    "FROM people\n",
    "WHERE birthdate IS NOT NULL;"
   ]
  },
  {
   "cell_type": "markdown",
   "metadata": {},
   "source": [
    "### LIKE and NOT LIKE"
   ]
  },
  {
   "cell_type": "raw",
   "metadata": {},
   "source": [
    "the WHERE clause can be used to filter text data. However, so far you've only been able to filter by specifying the exact text you're interested in. In the real world, often you'll want to search for a pattern rather than a specific text string.\n",
    "\n",
    "In SQL, the LIKE operator can be used in a WHERE clause to search for a pattern in a column. To accomplish this, you use something called a wildcard as a placeholder for some other values. There are two wildcards you can use with LIKE:\n",
    "\n",
    "The % wildcard will match zero, one, or many characters in text. For example, the following query matches companies like 'Data', 'DataC' 'DataCamp', 'DataMind', and so on:\n",
    "\n",
    "SELECT name\n",
    "FROM companies\n",
    "WHERE name LIKE 'Data%';\n",
    "The _ wildcard will match a single character. For example, the following query matches companies like 'DataCamp', 'DataComp', and so on:\n",
    "\n",
    "SELECT name\n",
    "FROM companies\n",
    "WHERE name LIKE 'DataC_mp';"
   ]
  },
  {
   "cell_type": "markdown",
   "metadata": {},
   "source": [
    "### Aggregate functions"
   ]
  },
  {
   "cell_type": "raw",
   "metadata": {},
   "source": [
    "Often, you will want to perform some calculation on the data in a database. SQL provides a few functions, called aggregate functions, to help you out with this.\n",
    "\n",
    "For example,\n",
    "\n",
    "SELECT AVG(budget)\n",
    "FROM films;\n",
    "gives you the average value from the budget column of the films table. Similarly, the MAX function returns the highest budget:\n",
    "\n",
    "SELECT MAX(budget)\n",
    "FROM films;\n",
    "The SUM function returns the result of adding up the numeric values in a column:\n",
    "\n",
    "SELECT SUM(budget)\n",
    "FROM films;\n",
    "You can probably guess what the MIN function does! Now it's your turn to try out some SQL functions."
   ]
  },
  {
   "cell_type": "markdown",
   "metadata": {},
   "source": [
    "### A note on arithmetic"
   ]
  },
  {
   "cell_type": "raw",
   "metadata": {},
   "source": [
    "In addition to using aggregate functions, you can perform basic arithmetic with symbols like +, -, *, and /.\n",
    "\n",
    "So, for example, this gives a result of 12:\n",
    "\n",
    "SELECT (4 * 3);\n",
    "However, the following gives a result of 1:\n",
    "\n",
    "SELECT (4 / 3);\n",
    "What's going on here?\n",
    "\n",
    "SQL assumes that if you divide an integer by an integer, you want to get an integer back. So be careful when dividing!\n",
    "\n",
    "If you want more precision when dividing, you can add decimal places to your numbers. For example,\n",
    "\n",
    "SELECT (4.0 / 3.0) AS result;\n",
    "gives you the result you would expect: 1.333."
   ]
  },
  {
   "cell_type": "markdown",
   "metadata": {},
   "source": [
    "### Aliasing"
   ]
  },
  {
   "cell_type": "raw",
   "metadata": {},
   "source": [
    "You may have noticed in the first exercise of this chapter that the column name of your result was just the name of the function you used. For example,\n",
    "\n",
    "SELECT MAX(budget)\n",
    "FROM films;\n",
    "gives you a result with one column, named max. But what if you use two functions like this?\n",
    "\n",
    "SELECT MAX(budget), MAX(duration)\n",
    "FROM films;\n",
    "Well, then you'd have two columns named max, which isn't very useful!\n",
    "\n",
    "To avoid situations like this, SQL allows you to do something called aliasing. Aliasing simply means you assign a temporary name to something. To alias, you use the AS keyword, which you've already seen earlier in this course.\n",
    "\n",
    "For example, in the above example we could use aliases to make the result clearer:\n",
    "\n",
    "SELECT MAX(budget) AS max_budget,\n",
    "       MAX(duration) AS max_duration\n",
    "FROM films;\n",
    "Aliases are helpful for making results more readable!"
   ]
  },
  {
   "cell_type": "markdown",
   "metadata": {
    "collapsed": true
   },
   "source": [
    "### ORDER BY"
   ]
  },
  {
   "cell_type": "raw",
   "metadata": {},
   "source": [
    "In SQL, the ORDER BY keyword is used to sort results in ascending or descending order according to the values of one or more columns.\n",
    "\n",
    "By default ORDER BY will sort in ascending order. If you want to sort the results in descending order, you can use the DESC keyword. For example,\n",
    "\n",
    "SELECT title\n",
    "FROM films\n",
    "ORDER BY release_year DESC;\n",
    "gives you the titles of films sorted by release year, from newest to oldest."
   ]
  },
  {
   "cell_type": "markdown",
   "metadata": {},
   "source": [
    "### Sorting single columns (DESC)"
   ]
  },
  {
   "cell_type": "raw",
   "metadata": {},
   "source": [
    "To order results in descending order, you can put the keyword DESC after your ORDER BY. For example, to get all the names in the people table, in reverse alphabetical order:\n",
    "\n",
    "SELECT name\n",
    "FROM people\n",
    "ORDER BY name DESC;"
   ]
  },
  {
   "cell_type": "markdown",
   "metadata": {},
   "source": [
    "### Sorting multiple columns"
   ]
  },
  {
   "cell_type": "raw",
   "metadata": {},
   "source": [
    "ORDER BY can also be used to sort on multiple columns. It will sort by the first column specified, then sort by the next, then the next, and so on. For example,\n",
    "\n",
    "SELECT birthdate, name\n",
    "FROM people\n",
    "ORDER BY birthdate, name;\n",
    "sorts on birth dates first (oldest to newest) and then sorts on the names in alphabetical order. The order of columns is important!"
   ]
  },
  {
   "cell_type": "markdown",
   "metadata": {},
   "source": [
    "### GROUP BY"
   ]
  },
  {
   "cell_type": "raw",
   "metadata": {},
   "source": [
    "Often you'll need to aggregate results. For example, you might want to get count the number of male and female employees in your company. Here, what you want is to group all the males together and count them, and group all the females together and count them. In SQL, GROUP BY allows you to group a result by one or more columns, like so:\n",
    "\n",
    "SELECT sex, count(*)\n",
    "FROM employees\n",
    "GROUP BY sex;\n",
    "This might give, for example:\n",
    "\n",
    "sex\tcount\n",
    "male\t15\n",
    "female\t19\n",
    "\n",
    "Commonly, GROUP BY is used with aggregate functions like COUNT() or MAX(). Note that GROUP BY always goes after the FROM clause!"
   ]
  },
  {
   "cell_type": "markdown",
   "metadata": {},
   "source": [
    "### HAVING"
   ]
  },
  {
   "cell_type": "raw",
   "metadata": {},
   "source": [
    "In SQL, aggregate functions can't be used in WHERE clauses. For example, the following query is invalid:\n",
    "\n",
    "SELECT release_year\n",
    "FROM films\n",
    "GROUP BY release_year\n",
    "WHERE COUNT(title) > 10;\n",
    "This means that if you want to filter based on the result of an aggregate function, you need another way! That's where the HAVING clause comes in. For example,\n",
    "\n",
    "SELECT release_year\n",
    "FROM films\n",
    "GROUP BY release_year\n",
    "HAVING COUNT(title) > 10;\n",
    "shows only those years in which more than 10 films were released."
   ]
  },
  {
   "cell_type": "code",
   "execution_count": null,
   "metadata": {
    "collapsed": true
   },
   "outputs": [],
   "source": []
  }
 ],
 "metadata": {
  "kernelspec": {
   "display_name": "Python 3",
   "language": "python",
   "name": "python3"
  },
  "language_info": {
   "codemirror_mode": {
    "name": "ipython",
    "version": 3
   },
   "file_extension": ".py",
   "mimetype": "text/x-python",
   "name": "python",
   "nbconvert_exporter": "python",
   "pygments_lexer": "ipython3",
   "version": "3.6.3"
  }
 },
 "nbformat": 4,
 "nbformat_minor": 2
}
