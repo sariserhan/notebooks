{
 "cells": [
  {
   "cell_type": "markdown",
   "metadata": {},
   "source": [
    "# Data Types for Data Science"
   ]
  },
  {
   "cell_type": "markdown",
   "metadata": {},
   "source": [
    "## Fundamental data types"
   ]
  },
  {
   "cell_type": "markdown",
   "metadata": {},
   "source": [
    "### Manipulating lists"
   ]
  },
  {
   "cell_type": "raw",
   "metadata": {},
   "source": [
    "You can add individual data elements to a list by using the .append() method. However, if you want to combine a list with another array type (list, set, tuple), you can use the .extend() method on the list.\n",
    "\n",
    "You can also use the .index() method to find the position of an item in a list. You can then use that position to remove the item with the .pop() method."
   ]
  },
  {
   "cell_type": "code",
   "execution_count": 3,
   "metadata": {},
   "outputs": [
    {
     "name": "stdout",
     "output_type": "stream",
     "text": [
      "['Ximena', 'Aliza', 'Ayden', 'Calvin', 'Rowen', 'Sandeep']\n",
      "['Ximena', 'Ayden', 'Calvin', 'Rowen', 'Sandeep']\n"
     ]
    }
   ],
   "source": [
    "# Create a list containing the names: baby_names\n",
    "baby_names = ['Ximena','Aliza','Ayden','Calvin']\n",
    "\n",
    "# Extend baby_names with 'Rowen' and 'Sandeep'\n",
    "baby_names.extend(['Rowen','Sandeep'])\n",
    "\n",
    "# Print baby_names\n",
    "print(baby_names)\n",
    "\n",
    "# Find the position of 'Aliza': position\n",
    "position = baby_names.index('Aliza')\n",
    "\n",
    "# Remove 'Aliza' from baby_names\n",
    "baby_names.pop(position)\n",
    "\n",
    "# Print baby_names\n",
    "print(baby_names)"
   ]
  },
  {
   "cell_type": "markdown",
   "metadata": {},
   "source": [
    "### Looping over lists"
   ]
  },
  {
   "cell_type": "raw",
   "metadata": {},
   "source": [
    "You can use a for loop to iterate through all the items in a list. You can take that a step further with the sorted() function which will sort the data in a list from lowest to highest in the case of numbers and alphabetical order if the list contains strings.\n",
    "\n",
    "The sorted() function returns a new list and does not affect the list you passed into the function."
   ]
  },
  {
   "cell_type": "code",
   "execution_count": 8,
   "metadata": {},
   "outputs": [
    {
     "name": "stdout",
     "output_type": "stream",
     "text": [
      "GERALDINE\n",
      "GIA\n",
      "GIANNA\n",
      "GISELLE\n",
      "GRACE\n",
      "GUADALUPE\n",
      "HAILEY\n",
      "HALEY\n",
      "HANNAH\n"
     ]
    }
   ],
   "source": [
    "records = [['2011', 'FEMALE', 'HISPANIC', 'GERALDINE', '13', '75'], ['2011', 'FEMALE', 'HISPANIC', 'GIA', '21', '67'], ['2011', 'FEMALE', 'HISPANIC', 'GIANNA', '49', '42'], ['2011', 'FEMALE', 'HISPANIC', 'GISELLE', '38', '51'], ['2011', 'FEMALE', 'HISPANIC', 'GRACE', '36', '53'], ['2011', 'FEMALE', 'HISPANIC', 'GUADALUPE', '26', '62'], ['2011', 'FEMALE', 'HISPANIC', 'HAILEY', '126', '8'], ['2011', 'FEMALE', 'HISPANIC', 'HALEY', '14', '74'], ['2011', 'FEMALE', 'HISPANIC', 'HANNAH', '17', '71']]\n",
    "\n",
    "# Create the empty list: baby_names\n",
    "baby_names = []\n",
    "\n",
    "# Loop over records \n",
    "for row in records:\n",
    "    # Add the name to the list\n",
    "    baby_names.append(row[3])\n",
    "    \n",
    "# Sort the names in alphabetical order\n",
    "for name in sorted(baby_names):\n",
    "    # Print each name\n",
    "    print(name)"
   ]
  },
  {
   "cell_type": "markdown",
   "metadata": {},
   "source": [
    "### Tuple"
   ]
  },
  {
   "cell_type": "raw",
   "metadata": {},
   "source": [
    "Immutable and ordered data type"
   ]
  },
  {
   "cell_type": "markdown",
   "metadata": {},
   "source": [
    "### Using and unpacking tuples"
   ]
  },
  {
   "cell_type": "raw",
   "metadata": {},
   "source": [
    "Tuples are made of several items just like a list, but they cannot be modified in any way. It is very common for tuples to be used to represent data from a database. If you have a tuple like ('chocolate chip cookies', 15) and you want to access each part of the data, you can use an index just like a list. However, you can also \"unpack\" the tuple into multiple variables such as type, count = ('chocolate chip cookies', 15) that will set type to 'chocolate chip cookies' and count to 15.\n",
    "\n",
    "Often you'll want to pair up multiple array data types. The zip() function does just that. It will return a list of tuples containing one element from each list passed into zip().\n",
    "\n",
    "When looping over a list, you can also track your position in the list by using the enumerate() function. The function returns the index of the list item you are currently on in the list and the list item itself."
   ]
  },
  {
   "cell_type": "code",
   "execution_count": 10,
   "metadata": {},
   "outputs": [
    {
     "name": "stdout",
     "output_type": "stream",
     "text": [
      "Rank 0: Chloe and Amir\n",
      "Rank 1: SOPHIA and Jack\n",
      "Rank 2: LONDON and Ryan\n",
      "Rank 3: TAYLOR and Jacob\n",
      "Rank 4: Ava and Benjamin\n",
      "Rank 5: MAKAYLA and DAVID\n",
      "Rank 6: RACHEL and MATTHEW\n",
      "Rank 7: GABRIELLE and Elijah\n",
      "Rank 8: LEAH and DANIEL\n",
      "Rank 9: Taylor and JOSIAH\n",
      "Rank 10: Brielle and Daniel\n",
      "Rank 11: AVA and Eric\n",
      "Rank 12: MADISON and Mason\n"
     ]
    }
   ],
   "source": [
    "girl_names = ['Chloe', 'SOPHIA', 'LONDON', 'TAYLOR', 'Ava', 'MAKAYLA', 'RACHEL','GABRIELLE','LEAH', 'Taylor', 'Brielle', 'AVA', 'MADISON']\n",
    "boy_names = ['Amir', 'Jack', 'Ryan', 'Jacob', 'Benjamin', 'DAVID', 'MATTHEW', 'Elijah', 'DANIEL', 'JOSIAH', 'Daniel', 'Eric', 'Mason']\n",
    "# Pair up the boy and girl names: pairs\n",
    "pairs = zip(girl_names, boy_names)\n",
    "\n",
    "# Iterate over pairs\n",
    "for idx, pair in enumerate(pairs):\n",
    "    # Unpack pair: girl_name, boy_name\n",
    "    girl_name, boy_name = pair\n",
    "    # Print the rank and names associated with each rank\n",
    "    print('Rank {}: {} and {}'.format(idx, girl_name, boy_name))"
   ]
  },
  {
   "cell_type": "markdown",
   "metadata": {},
   "source": [
    "### Making tuples by accident"
   ]
  },
  {
   "cell_type": "raw",
   "metadata": {},
   "source": [
    "Tuples are very powerful and useful, and it's super easy to make one by accident. All you have to do is create a variable and follow the assignment with a comma. This becomes an error when you try to use the variable later expecting it to be a string or a number.\n",
    "\n",
    "You can verify the data type of a variable with the type() function."
   ]
  },
  {
   "cell_type": "code",
   "execution_count": 11,
   "metadata": {},
   "outputs": [
    {
     "name": "stdout",
     "output_type": "stream",
     "text": [
      "<type 'str'>\n",
      "<type 'tuple'>\n"
     ]
    }
   ],
   "source": [
    "# Create the normal variable: normal\n",
    "normal = 'simple'\n",
    "\n",
    "# Create the mistaken variable: error\n",
    "error = 'trailing comma',\n",
    "\n",
    "# Print the types of the variables\n",
    "print(type(normal))\n",
    "print(type(error))"
   ]
  },
  {
   "cell_type": "markdown",
   "metadata": {},
   "source": [
    "### Finding all the data and the overlapping data between sets"
   ]
  },
  {
   "cell_type": "raw",
   "metadata": {},
   "source": [
    "Sets have several methods to combine, compare, and study them all based on mathematical set theory. The .union() method returns a set of all the names found in the set you used the method on plus any sets passed as arguments to the method. You can also look for overlapping data in sets by using the .intersection() method on a set and passing another set as an argument. It will return an empty set if nothing matches."
   ]
  },
  {
   "cell_type": "code",
   "execution_count": 13,
   "metadata": {},
   "outputs": [
    {
     "name": "stdout",
     "output_type": "stream",
     "text": [
      "31\n",
      "0\n"
     ]
    }
   ],
   "source": [
    "baby_names_2011 = {'Jazmine', 'Tiana', 'Jordyn', 'Malka', 'Sabrina', 'Eliza', 'Shawn', 'Aileen', 'Javier', 'Heidy', 'Jencarlos', 'Jesse', 'Mina'}\n",
    "baby_names_2014 =  {'Yidel', 'Yitzchok', 'Roizy', 'Jaden', 'Kareem', 'Emanuel', 'Bridget', 'Jesus', 'Mirel', 'Hindy', 'Maggie', 'Kimora', 'Nolan', 'Yael', 'Philip', 'Prince', 'Shlome', 'Justin'}\n",
    "# Find the union: all_names\n",
    "all_names = baby_names_2011.union(baby_names_2014)\n",
    "\n",
    "# Print the count of names in all_names\n",
    "print(len(all_names))\n",
    "\n",
    "# Find the intersection: overlapping_names\n",
    "overlapping_names = baby_names_2011.intersection(baby_names_2014)\n",
    "\n",
    "# Print the count of names in overlapping_names\n",
    "print(len(overlapping_names))"
   ]
  },
  {
   "cell_type": "markdown",
   "metadata": {},
   "source": [
    "### Determining set differences"
   ]
  },
  {
   "cell_type": "raw",
   "metadata": {},
   "source": [
    "Another way of comparing sets is to use the difference() method. It returns all the items found in one set but not another. It's important to remember the set you call the method on will be the one from which the items are returned. Unlike tuples, you can add() items to a set. A set will only add items that do not exist in the set."
   ]
  },
  {
   "cell_type": "code",
   "execution_count": 14,
   "metadata": {},
   "outputs": [
    {
     "name": "stdout",
     "output_type": "stream",
     "text": [
      "set(['HANNAH', 'GERALDINE', 'HALEY', 'HAILEY', 'GISELLE', 'GIANNA', 'GUADALUPE', 'GIA', 'GRACE'])\n"
     ]
    }
   ],
   "source": [
    "# Create the empty set: baby_names_2011\n",
    "baby_names_2011 = set()\n",
    "\n",
    "# Loop over records and add the names from 2011 to the baby_names_2011 set\n",
    "for row in records:\n",
    "    # Check if the first column is '2011'\n",
    "    if row[0] == '2011':\n",
    "        # Add the fourth column to the set\n",
    "        baby_names_2011.add(row[3])\n",
    "\n",
    "# Find the difference between 2011 and 2014: differences\n",
    "differences = baby_names_2011.difference(baby_names_2014)\n",
    "\n",
    "# Print the differences\n",
    "print(differences)"
   ]
  },
  {
   "cell_type": "markdown",
   "metadata": {},
   "source": [
    "### Creating and looping through dictionaries"
   ]
  },
  {
   "cell_type": "raw",
   "metadata": {},
   "source": [
    "You'll often encounter the need to loop over some array type data and provide it some structure so you can find the data you desire quickly.\n",
    "\n",
    "You start that by creating an empty dictionary and assigning part of your array data as the key and the rest as the value.\n",
    "\n",
    "Dictionaries can also be sorted. By default, using sorted() on a dictionary will sort by the keys of the dictionary. You can also reverse the order by passing reverse=True as a keyword argument.\n",
    "\n",
    "Finally, since sorted returns a list, you can use slice notation to select only part of the list. For example, [:10] will slice the first ten items off a list and return only those items."
   ]
  },
  {
   "cell_type": "code",
   "execution_count": 18,
   "metadata": {},
   "outputs": [
    {
     "name": "stdout",
     "output_type": "stream",
     "text": [
      "CHAVY\n",
      "AMINA\n",
      "LAILA\n",
      "MICHELLE\n",
      "SERENITY\n",
      "SUMMER\n",
      "SARAH\n",
      "MADISON\n"
     ]
    }
   ],
   "source": [
    "female_baby_names_2012 = {('MADISON', 1), ('CYNTHIA', 36), ('SARAH', 12), ('CHAVY', 79), ('SUMMER', 31), ('SERENITY', 36), ('MICHELLE', 43), ('AMINA', 77), ('MELINA', 77), ('LAILA', 74), ('SLOANE', 74)}\n",
    "# Create an empty dictionary: names\n",
    "names = {}\n",
    "\n",
    "# Loop over the girl names\n",
    "for name, rank in female_baby_names_2012:\n",
    "    # Add each name to the names dictionary using rank as the key\n",
    "    \n",
    "    names[rank] = name\n",
    "    \n",
    "# Sort the names list by rank in descending order and slice the first 10 items\n",
    "for rank in sorted(names, reverse=True)[:10]:\n",
    "    # Print each item\n",
    "    print(names[rank])"
   ]
  },
  {
   "cell_type": "markdown",
   "metadata": {},
   "source": [
    "### Safely finding by key"
   ]
  },
  {
   "cell_type": "raw",
   "metadata": {},
   "source": [
    "if you attempt to access a key that isn't present in a dictionary, you'll get a KeyError. One option to handle this type of error is to use a try: except: block.\n",
    "\n",
    "Python provides a faster, more versatile tool to help with this problem in the form of the .get() method. The .get() method allows you to supply the name of a key, and optionally, what you'd like to have returned if the key is not found."
   ]
  },
  {
   "cell_type": "code",
   "execution_count": 22,
   "metadata": {},
   "outputs": [
    {
     "name": "stdout",
     "output_type": "stream",
     "text": [
      "CHAYA\n",
      "<type 'str'>\n",
      "Not Found\n"
     ]
    }
   ],
   "source": [
    "names = {1: 'EMMA', 2: 'LEAH', 3: 'SARAH', 4: 'SOPHIA', 5: 'ESTHER', 6: 'RACHEL', 7: 'CHAYA', 8: 'AVA', 9: 'CHANA'}\n",
    "\n",
    "# Safely print rank 7 from the names dictionary\n",
    "print(names.get(7))\n",
    "\n",
    "# Safely print the type of rank 100 from the names dictionary\n",
    "print(type(names.get(2)))\n",
    "\n",
    "# Safely print rank 105 from the names dictionary or 'Not Found'\n",
    "print(names.get(105, 'Not Found'))"
   ]
  },
  {
   "cell_type": "markdown",
   "metadata": {},
   "source": [
    "### Adding and extending dictionaries"
   ]
  },
  {
   "cell_type": "raw",
   "metadata": {},
   "source": [
    "If you have a dictionary and you want to add data to it, you can simply create a new key and assign the data you desire to it. It's important to remember that if it's a nested dictionary, then all the keys in the data path must exist, and each key in the path must be assigned individually.\n",
    "\n",
    "You can also use the .update() method to update a dictionary with keys and values from another dictionary, tuples or keyword arguments."
   ]
  },
  {
   "cell_type": "code",
   "execution_count": 43,
   "metadata": {},
   "outputs": [
    {
     "ename": "SyntaxError",
     "evalue": "EOL while scanning string literal (<ipython-input-43-9b19e9bc66fd>, line 1)",
     "output_type": "error",
     "traceback": [
      "\u001b[1;36m  File \u001b[1;32m\"<ipython-input-43-9b19e9bc66fd>\"\u001b[1;36m, line \u001b[1;32m1\u001b[0m\n\u001b[1;33m    names_2011 = {1: 'Michael', 2: 'Joseph', 3: 'Jacob', 4: 'David', 5: 'Benjamin', 6: 'Moshe', 7: 'Daniel', 8: 'Alexander}\u001b[0m\n\u001b[1;37m                                                                                                                          ^\u001b[0m\n\u001b[1;31mSyntaxError\u001b[0m\u001b[1;31m:\u001b[0m EOL while scanning string literal\n"
     ]
    }
   ],
   "source": [
    "names_2011 = {1: 'Michael', 2: 'Joseph', 3: 'Jacob', 4: 'David', 5: 'Benjamin', 6: 'Moshe', 7: 'Daniel', 8: 'Alexander}\n",
    "boy_names = {2012: {}, 2013: {1: 'David',  2: 'Joseph',  3: 'Michael',  4: 'Moshe',  5: 'Daniel',  6: 'Benjamin',  7: 'James}}\n",
    "\n",
    "# Assign the names_2011 dictionary as the value to the 2011 key of boy_names\n",
    "boy_names[2011] = names_2011\n",
    "\n",
    "# Update the 2012 key in the boy_names dictionary\n",
    "boy_names[2012].update([(1,'Casey'), (2,'Aiden')])\n",
    "\n",
    "# Loop over the boy_names dictionary \n",
    "for year in boy_names:\n",
    "    # Loop over and sort the data for each year by descending rank\n",
    "    for rank in sorted(boy_names[year], reverse=True)[:1]:\n",
    "        # Check that you have a rank\n",
    "        if not rank:\n",
    "            print(year, 'No Data Available')\n",
    "        # Safely print the year and the least popular name or 'Not Available'\n",
    "        print(year, boy_names[year].get(rank, 'Not Available'))"
   ]
  },
  {
   "cell_type": "markdown",
   "metadata": {},
   "source": [
    "### Popping and deleting from dictionaries"
   ]
  },
  {
   "cell_type": "raw",
   "metadata": {},
   "source": [
    "Often, you will want to remove keys and value from a dictionary. You can do so using the del Python instruction. It's important to remember that del will throw a KeyError if the key you are trying to delete does not exist. You can not use it with the .get() method to safely delete items; however, it can be used with try: catch:.\n",
    "\n",
    "If you want to save that deleted data into another variable for further processing, the .pop() dictionary method will do just that. You can supply a default value for .pop() much like you did for .get() to safely deal with missing keys. It's also typical to use .pop() instead of del since it is a safe method."
   ]
  },
  {
   "cell_type": "code",
   "execution_count": 39,
   "metadata": {
    "collapsed": true
   },
   "outputs": [],
   "source": [
    "female_names = {2011: {1: 'Olivia',  2: 'Esther',  3: 'Rachel',  4: 'Leah',  5: 'Emma',  6: 'Chaya',  7: 'Sarah',  8: 'Sophia',  9: 'Ava',  10: 'Miriam'}, 2012: {}, 2013: {1: 'Olivia',  2: 'Emma',  3: 'Esther',  4: 'Sophia',  5: 'Sarah',  6: 'Leah',  7: 'Rachel',  8: 'Chaya',  9: 'Miriam',  10: 'Chana'}, 2014: {1: 'Olivia',  2: 'Esther',  3: 'Rachel',  4: 'Leah',  5: 'Emma',  6: 'Chaya',  7: 'Sarah',  8: 'Sophia',  9: 'Ava', 10: 'Miriam'}}"
   ]
  },
  {
   "cell_type": "code",
   "execution_count": 41,
   "metadata": {},
   "outputs": [
    {
     "name": "stdout",
     "output_type": "stream",
     "text": [
      "{2013: {1: 'Olivia', 2: 'Emma', 3: 'Esther', 4: 'Sophia', 5: 'Sarah', 6: 'Leah', 7: 'Rachel', 8: 'Chaya', 9: 'Miriam', 10: 'Chana'}, 2014: {1: 'Olivia', 2: 'Esther', 3: 'Rachel', 4: 'Leah', 5: 'Emma', 6: 'Chaya', 7: 'Sarah', 8: 'Sophia', 9: 'Ava', 10: 'Miriam'}}\n"
     ]
    }
   ],
   "source": [
    "# Remove 2011 and store it: female_names_2011\n",
    "female_names_2011 = female_names.pop(2011)\n",
    "\n",
    "# Safely remove 2015 with an empty dictionary as the default: female_names_2015\n",
    "female_names_2015 = female_names.pop(2015,{})\n",
    "\n",
    "# Delete 2012\n",
    "del female_names[2012]\n",
    "\n",
    "# Print female_names\n",
    "print(female_names)"
   ]
  },
  {
   "cell_type": "code",
   "execution_count": null,
   "metadata": {
    "collapsed": true
   },
   "outputs": [],
   "source": []
  }
 ],
 "metadata": {
  "kernelspec": {
   "display_name": "Python 2",
   "language": "python",
   "name": "python2"
  },
  "language_info": {
   "codemirror_mode": {
    "name": "ipython",
    "version": 2
   },
   "file_extension": ".py",
   "mimetype": "text/x-python",
   "name": "python",
   "nbconvert_exporter": "python",
   "pygments_lexer": "ipython2",
   "version": "2.7.13"
  }
 },
 "nbformat": 4,
 "nbformat_minor": 2
}
